{
 "cells": [
  {
   "cell_type": "markdown",
   "id": "59f1afa4",
   "metadata": {},
   "source": [
    "%display latex"
   ]
  },
  {
   "cell_type": "markdown",
   "id": "6825d45e",
   "metadata": {},
   "source": [
    "For which value of the parameter k is  the real matrix $ A= \\begin{pmatrix}1 & k\\\\ k & 2\\end{pmatrix}$ \n",
    "non-positive definite ?"
   ]
  },
  {
   "cell_type": "code",
   "execution_count": 28,
   "id": "bdd7f9b7",
   "metadata": {},
   "outputs": [
    {
     "name": "stdout",
     "output_type": "stream",
     "text": [
      "#0: solve_rat_ineq(ineq=3/2-sqrt(4*_SAGE_VAR_k^2+1)/2 <= 0)\n"
     ]
    },
    {
     "data": {
      "text/html": [
       "<html><script type=\"math/tex; mode=display\">\\newcommand{\\Bold}[1]{\\mathbf{#1}}\\left[-\\frac{1}{2} \\, \\sqrt{4 \\, k^{2} + 1} + \\frac{3}{2}, \\frac{1}{2} \\, \\sqrt{4 \\, k^{2} + 1} + \\frac{3}{2}\\right]</script></html>"
      ],
      "text/latex": [
       "$$\\newcommand{\\Bold}[1]{\\mathbf{#1}}\\left[-\\frac{1}{2} \\, \\sqrt{4 \\, k^{2} + 1} + \\frac{3}{2}, \\frac{1}{2} \\, \\sqrt{4 \\, k^{2} + 1} + \\frac{3}{2}\\right]$$"
      ],
      "text/plain": [
       "[-1/2*sqrt(4*k^2 + 1) + 3/2, 1/2*sqrt(4*k^2 + 1) + 3/2]"
      ]
     },
     "metadata": {},
     "output_type": "display_data"
    },
    {
     "data": {
      "text/html": [
       "<html><script type=\"math/tex; mode=display\">\\newcommand{\\Bold}[1]{\\mathbf{#1}}\\left[\\right]</script></html>"
      ],
      "text/latex": [
       "$$\\newcommand{\\Bold}[1]{\\mathbf{#1}}\\left[\\right]$$"
      ],
      "text/plain": [
       "[]"
      ]
     },
     "metadata": {},
     "output_type": "display_data"
    },
    {
     "data": {
      "text/plain": [
       "([-1/2*sqrt(4*k^2 + 1) + 3/2, 1/2*sqrt(4*k^2 + 1) + 3/2], None, None)"
      ]
     },
     "execution_count": 28,
     "metadata": {},
     "output_type": "execute_result"
    }
   ],
   "source": [
    "# Define the matrix A and the variable k\n",
    "var('k')\n",
    "A = Matrix([[1, k], [k, 2]])\n",
    "\n",
    "# Find the eigenvalues of A\n",
    "eigenvalues = A.eigenvalues()\n",
    "\n",
    "# Check if all eigenvalues are non-positive\n",
    "solutions = solve((-1/2*sqrt(4*k^2 + 1) + 3/2) <= 0, k)\n",
    "\n",
    "eigenvalues, pretty_print(eigenvalues), pretty_print(non_positive_k_values)"
   ]
  },
  {
   "cell_type": "code",
   "execution_count": 31,
   "id": "0ce8d565",
   "metadata": {},
   "outputs": [
    {
     "data": {
      "text/plain": [
       "1.00000000000000"
      ]
     },
     "execution_count": 31,
     "metadata": {},
     "output_type": "execute_result"
    }
   ],
   "source": [
    "n(-1/2*sqrt( 1) + 3/2)"
   ]
  },
  {
   "cell_type": "code",
   "execution_count": null,
   "id": "0645905a",
   "metadata": {},
   "outputs": [],
   "source": []
  }
 ],
 "metadata": {
  "kernelspec": {
   "display_name": "SageMath 9.5",
   "language": "sage",
   "name": "sagemath"
  },
  "language_info": {
   "codemirror_mode": {
    "name": "ipython",
    "version": 3
   },
   "file_extension": ".py",
   "mimetype": "text/x-python",
   "name": "python",
   "nbconvert_exporter": "python",
   "pygments_lexer": "ipython3",
   "version": "3.10.12"
  }
 },
 "nbformat": 4,
 "nbformat_minor": 5
}
