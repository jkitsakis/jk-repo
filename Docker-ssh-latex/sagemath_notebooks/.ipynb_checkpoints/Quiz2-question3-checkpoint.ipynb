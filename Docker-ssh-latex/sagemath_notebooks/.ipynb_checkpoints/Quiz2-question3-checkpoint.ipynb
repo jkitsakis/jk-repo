{
 "cells": [
  {
   "cell_type": "markdown",
   "id": "385c9239",
   "metadata": {},
   "source": [
    "%display latex"
   ]
  },
  {
   "cell_type": "markdown",
   "id": "9f0dfe19",
   "metadata": {},
   "source": [
    "Which of the following is the result of rotating the vector $a=\\begin{pmatrix}1,-1\\end{pmatrix}^T$\n",
    "by 45$^{\\circ}$ clockwise around the origin $\\begin{pmatrix}0,0\\end{pmatrix}^T$ ?"
   ]
  },
  {
   "cell_type": "markdown",
   "id": "24cda850",
   "metadata": {},
   "source": [
    "$Answer$"
   ]
  },
  {
   "cell_type": "markdown",
   "id": "a20fa088",
   "metadata": {},
   "source": [
    "To rotate a vector clockwise by 45 degrees around the origin, you can use a rotation matrix. In this case, you want to rotate the vector $a = \\begin{pmatrix}1, -1\\end{pmatrix}^T$ by 45 degrees. The general formula for rotating a 2D vector counterclockwise by an angle θ around the origin is:\n",
    "\n",
    "$\\begin{pmatrix}x'\\\\y'\\end{pmatrix} = \\begin{pmatrix}\\cos(\\theta) & -\\sin(\\theta)\\\\sin(\\theta) & \\cos(\\theta)\\end{pmatrix} \\begin{pmatrix}x\\y\\end{pmatrix}$\n",
    "\n",
    "To rotate the vector clockwise by 45 degrees (which is the same as rotating counterclockwise by -45 degrees), you can use θ = -45 degrees:\n",
    "\n",
    "$\\begin{pmatrix}x'\\\\y'\\end{pmatrix} = \\begin{pmatrix}\\cos(-45^\\circ) & -\\sin(-45^\\circ)\\\\sin(-45^\\circ) & \\cos(-45^\\circ)\\end{pmatrix} \\begin{pmatrix}1\\-1\\end{pmatrix}$\n",
    "\n",
    "Now, calculate the values of $\\cos(-45^\\circ)$ and $\\sin(-45^\\circ)$:\n",
    "\n",
    "$\\cos(-45^\\circ) = \\cos(45^\\circ) = \\frac{1}{\\sqrt{2}}$\n",
    "\n",
    "$\\sin(-45^\\circ) = -\\sin(45^\\circ) = -\\frac{1}{\\sqrt{2}}$\n",
    "\n",
    "Now, perform the matrix multiplication:\n",
    "\n",
    "$\\begin{pmatrix}x'\\\\y'\\end{pmatrix} = \\begin{pmatrix}\\frac{1}{\\sqrt{2}} & \\frac{1}{\\sqrt{2}}\\-\\frac{1}{\\sqrt{2}} & \\frac{1}{\\sqrt{2}}\\end{pmatrix} \\begin{pmatrix}1\\-1\\end{pmatrix}$\n",
    "\n",
    "Now, calculate the product:\n",
    "\n",
    "$x' = \\frac{1}{\\sqrt{2}} * 1 + \\frac{1}{\\sqrt{2}} * (-1) = \\frac{1}{\\sqrt{2}} - \\frac{1}{\\sqrt{2}} = 0$\n",
    "\n",
    "$y' = -\\frac{1}{\\sqrt{2}} * 1 + \\frac{1}{\\sqrt{2}} * (-1) = -\\frac{1}{\\sqrt{2}} - \\frac{1}{\\sqrt{2}} = -\\frac{2}{\\sqrt{2}} = -\\sqrt{2}$\n",
    "\n",
    "So, the result of rotating the vector $a = \\begin{pmatrix}1, -1\\end{pmatrix}^T$ by 45 degrees clockwise around the origin is:\n",
    "\n",
    "$\\begin{pmatrix}0\\\\-\\sqrt{2}\\end{pmatrix}$"
   ]
  },
  {
   "cell_type": "code",
   "execution_count": 11,
   "id": "b205bbbd",
   "metadata": {},
   "outputs": [
    {
     "data": {
      "text/plain": [
       "(0, -sqrt(2))"
      ]
     },
     "execution_count": 11,
     "metadata": {},
     "output_type": "execute_result"
    }
   ],
   "source": [
    "# Define the original vector a\n",
    "a = vector([1, -1])\n",
    "\n",
    "# Define the rotation angle in radians (45 degrees clockwise)\n",
    "angle = -pi/4\n",
    "\n",
    "# Create the rotation matrix\n",
    "R = matrix([[cos(angle), -sin(angle)], [sin(angle), cos(angle)]])\n",
    "\n",
    "# Rotate the vector by multiplying with the rotation matrix\n",
    "a_rotated = R * a\n",
    "\n",
    "a_rotated\n"
   ]
  },
  {
   "cell_type": "code",
   "execution_count": null,
   "id": "16ac8030",
   "metadata": {},
   "outputs": [],
   "source": []
  }
 ],
 "metadata": {
  "kernelspec": {
   "display_name": "SageMath 9.5",
   "language": "sage",
   "name": "sagemath"
  },
  "language_info": {
   "codemirror_mode": {
    "name": "ipython",
    "version": 3
   },
   "file_extension": ".py",
   "mimetype": "text/x-python",
   "name": "python",
   "nbconvert_exporter": "python",
   "pygments_lexer": "ipython3",
   "version": "3.10.12"
  }
 },
 "nbformat": 4,
 "nbformat_minor": 5
}
