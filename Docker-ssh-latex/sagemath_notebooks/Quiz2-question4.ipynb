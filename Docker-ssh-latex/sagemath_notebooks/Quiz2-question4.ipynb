{
 "cells": [
  {
   "cell_type": "markdown",
   "id": "580ed5d8",
   "metadata": {},
   "source": [
    "%display latex"
   ]
  },
  {
   "cell_type": "markdown",
   "id": "2fef9393",
   "metadata": {},
   "source": [
    "Assume an inner product defined by $<x,y>=x^TAy$ where $A= ($$\\begin{pmatrix}2&k\\\\k&2\\end{pmatrix}) $ and $x,y \\in \\mathcal{R}^2$. For which value of the real parameter k is the angle  between the  vectors $a= $$\\begin{bmatrix}{1}\\\\{1}\\\\ \\end{bmatrix}$ and $b= $$\\begin{bmatrix}{1}\\\\{2}\\\\ \\end{bmatrix}$ equal to 45$^{\\circ}$?\n"
   ]
  },
  {
   "cell_type": "code",
   "execution_count": 3,
   "id": "82c19d60",
   "metadata": {},
   "outputs": [
    {
     "data": {
      "text/plain": [
       "k"
      ]
     },
     "execution_count": 3,
     "metadata": {},
     "output_type": "execute_result"
    }
   ],
   "source": [
    "var('k')"
   ]
  },
  {
   "cell_type": "code",
   "execution_count": 4,
   "id": "6bd2e188",
   "metadata": {},
   "outputs": [
    {
     "data": {
      "text/plain": [
       "[2 k]\n",
       "[k 2]"
      ]
     },
     "execution_count": 4,
     "metadata": {},
     "output_type": "execute_result"
    }
   ],
   "source": [
    "# Define the matrix A\n",
    "A = Matrix([[2, k], [k, 2]]) \n",
    "A"
   ]
  },
  {
   "cell_type": "code",
   "execution_count": 8,
   "id": "a0b1b6fd",
   "metadata": {},
   "outputs": [
    {
     "data": {
      "text/plain": [
       "[1]\n",
       "[1]"
      ]
     },
     "execution_count": 8,
     "metadata": {},
     "output_type": "execute_result"
    }
   ],
   "source": [
    "vector_a=vector([1,1]).column()\n",
    "vector_a"
   ]
  },
  {
   "cell_type": "code",
   "execution_count": 9,
   "id": "41465fa2",
   "metadata": {},
   "outputs": [
    {
     "data": {
      "text/plain": [
       "[1]\n",
       "[2]"
      ]
     },
     "execution_count": 9,
     "metadata": {},
     "output_type": "execute_result"
    }
   ],
   "source": [
    "vector_b=vector([1,2]).column()\n",
    "vector_b"
   ]
  },
  {
   "cell_type": "code",
   "execution_count": 13,
   "id": "36807c08",
   "metadata": {},
   "outputs": [
    {
     "data": {
      "text/plain": [
       "[3*k + 6]"
      ]
     },
     "execution_count": 13,
     "metadata": {},
     "output_type": "execute_result"
    }
   ],
   "source": [
    "# Calculate the inner product <𝑥,𝑦>=𝑥^𝑇𝐴𝑦\n",
    "inner_product = vector_a.transpose() * A * vector_b \n",
    "inner_product"
   ]
  },
  {
   "cell_type": "code",
   "execution_count": 16,
   "id": "3e55f321",
   "metadata": {},
   "outputs": [
    {
     "data": {
      "text/plain": [
       "(sqrt(2), sqrt(5) - 1.4142135623730951, 2.23606797749979)"
      ]
     },
     "execution_count": 16,
     "metadata": {},
     "output_type": "execute_result"
    }
   ],
   "source": [
    "# Calculate the magnitude of vectors a and b\n",
    "norm_a=sqrt(1^2+1^2)\n",
    "norm_b=sqrt(1^2+2^2)\n",
    "\n",
    "norm_a1 = vector_a.norm()\n",
    "norm_b1 = vector_b.norm()\n",
    "\n",
    "norm_a, norm_b - norm_a1, norm_b1"
   ]
  },
  {
   "cell_type": "code",
   "execution_count": 43,
   "id": "e9aab742",
   "metadata": {},
   "outputs": [
    {
     "data": {
      "text/html": [
       "<html><script type=\"math/tex; mode=display\">\\newcommand{\\Bold}[1]{\\mathbf{#1}}\\verb|inner|\\verb| |\\verb|product|\\verb| |\\verb|=| \\left(\\begin{array}{r}\n",
       "3 \\, k + 6\n",
       "\\end{array}\\right)</script></html>"
      ],
      "text/latex": [
       "$$\\newcommand{\\Bold}[1]{\\mathbf{#1}}\\verb|inner|\\verb| |\\verb|product|\\verb| |\\verb|=| \\left(\\begin{array}{r}\n",
       "3 \\, k + 6\n",
       "\\end{array}\\right)$$"
      ],
      "text/plain": [
       "'inner product =' [3*k + 6]"
      ]
     },
     "metadata": {},
     "output_type": "display_data"
    },
    {
     "data": {
      "text/html": [
       "<html><script type=\"math/tex; mode=display\">\\newcommand{\\Bold}[1]{\\mathbf{#1}}\\verb|cos|\\verb| |\\verb|thita=| \\left(\\begin{array}{r}\n",
       "\\frac{3}{10} \\, \\sqrt{5} \\sqrt{2} {\\left(k + 2\\right)}\n",
       "\\end{array}\\right)</script></html>"
      ],
      "text/latex": [
       "$$\\newcommand{\\Bold}[1]{\\mathbf{#1}}\\verb|cos|\\verb| |\\verb|thita=| \\left(\\begin{array}{r}\n",
       "\\frac{3}{10} \\, \\sqrt{5} \\sqrt{2} {\\left(k + 2\\right)}\n",
       "\\end{array}\\right)$$"
      ],
      "text/plain": [
       "'cos thita=' [3/10*sqrt(5)*sqrt(2)*(k + 2)]"
      ]
     },
     "metadata": {},
     "output_type": "display_data"
    },
    {
     "name": "stdout",
     "output_type": "stream",
     "text": [
      "cos thita= (3/10*sqrt(5)*sqrt(2)*(k + 2))\n"
     ]
    }
   ],
   "source": [
    "# Calculate the cosine of the angle between vectors a and b\n",
    "cos_theta = inner_product / (sqrt(2) * sqrt(5))\n",
    "pretty_print(\"inner product =\", inner_product), pretty_print(\"cos thita=\",cos_theta)\n",
    "print(\"cos thita=\",cos_theta[0])"
   ]
  },
  {
   "cell_type": "code",
   "execution_count": 45,
   "id": "78d0a7ec",
   "metadata": {},
   "outputs": [
    {
     "data": {
      "text/html": [
       "<html><script type=\"math/tex; mode=display\">\\newcommand{\\Bold}[1]{\\mathbf{#1}}\\verb|result:| \\left[k = \\frac{1}{3} \\, \\sqrt{5} - 2\\right]</script></html>"
      ],
      "text/latex": [
       "$$\\newcommand{\\Bold}[1]{\\mathbf{#1}}\\verb|result:| \\left[k = \\frac{1}{3} \\, \\sqrt{5} - 2\\right]$$"
      ],
      "text/plain": [
       "'result:  ' [k == 1/3*sqrt(5) - 2]"
      ]
     },
     "metadata": {},
     "output_type": "display_data"
    }
   ],
   "source": [
    "# Solve for k when cos(45°) = 1/sqrt(2)\n",
    "k_value = solve((3/10*sqrt(5)*sqrt(2)*(k + 2)) == 1/sqrt(2), k)\n",
    "pretty_print(\"result:  \", k_value)"
   ]
  },
  {
   "cell_type": "code",
   "execution_count": 55,
   "id": "5e8e11bf",
   "metadata": {},
   "outputs": [
    {
     "data": {
      "text/plain": [
       "-1.25464400750007"
      ]
     },
     "execution_count": 55,
     "metadata": {},
     "output_type": "execute_result"
    }
   ],
   "source": [
    "n(1/3*sqrt(5)-2)"
   ]
  },
  {
   "cell_type": "code",
   "execution_count": 57,
   "id": "be2d2fdb",
   "metadata": {},
   "outputs": [
    {
     "data": {
      "text/plain": [
       "(-1.60000000000000, 0.948683298050514)"
      ]
     },
     "execution_count": 57,
     "metadata": {},
     "output_type": "execute_result"
    }
   ],
   "source": [
    "n(-8/5), n(3/sqrt(10))"
   ]
  },
  {
   "cell_type": "code",
   "execution_count": null,
   "id": "e53b74dd",
   "metadata": {},
   "outputs": [],
   "source": []
  }
 ],
 "metadata": {
  "kernelspec": {
   "display_name": "SageMath 9.5",
   "language": "sage",
   "name": "sagemath"
  },
  "language_info": {
   "codemirror_mode": {
    "name": "ipython",
    "version": 3
   },
   "file_extension": ".py",
   "mimetype": "text/x-python",
   "name": "python",
   "nbconvert_exporter": "python",
   "pygments_lexer": "ipython3",
   "version": "3.10.12"
  }
 },
 "nbformat": 4,
 "nbformat_minor": 5
}
