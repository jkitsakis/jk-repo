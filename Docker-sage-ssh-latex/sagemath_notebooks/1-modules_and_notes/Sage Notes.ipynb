{
 "cells": [
  {
   "cell_type": "markdown",
   "id": "493d4607",
   "metadata": {},
   "source": [
    "provide answer in sage markdown window  with sage 9.3 simple code"
   ]
  },
  {
   "cell_type": "markdown",
   "id": "32cd09fe",
   "metadata": {},
   "source": [
    "$\\textbf{Consider the matrix}$\n",
    "\n",
    "$A=\\begin{bmatrix} 1 & 2 & 1 & 2 \\\\ 2 & k & 0 & 1 \\\\ 0 & 1 & 0 & 1   \\end{bmatrix}$\n",
    "\n",
    "where k = 1+(4 mod 3). \n",
    "\n",
    "Using Sagemath:  \n",
    "(a) Calculate numerically the SVD of A.  \n",
    "(b) Calculate the rank-1 approximation of A  \n",
    "(c) Derive the matrix $AA^T$ in the symbolic ring and find its exact eigenvectors and eigenvalues\n"
   ]
  },
  {
   "cell_type": "code",
   "execution_count": 132,
   "id": "70c24c43",
   "metadata": {},
   "outputs": [
    {
     "data": {
      "text/html": [
       "<html><script type=\"math/tex; mode=display\">\\newcommand{\\Bold}[1]{\\mathbf{#1}}\\left(\\begin{array}{rrrr}\n",
       "1 & 2 & 1 & 2 \\\\\n",
       "2 & 2 & 0 & 1 \\\\\n",
       "0 & 1 & 0 & 1\n",
       "\\end{array}\\right)</script></html>"
      ],
      "text/latex": [
       "$$\\newcommand{\\Bold}[1]{\\mathbf{#1}}\\left(\\begin{array}{rrrr}\n",
       "1 & 2 & 1 & 2 \\\\\n",
       "2 & 2 & 0 & 1 \\\\\n",
       "0 & 1 & 0 & 1\n",
       "\\end{array}\\right)$$"
      ],
      "text/plain": [
       "[1 2 1 2]\n",
       "[2 2 0 1]\n",
       "[0 1 0 1]"
      ]
     },
     "metadata": {},
     "output_type": "display_data"
    },
    {
     "name": "stdout",
     "output_type": "stream",
     "text": [
      "U= [ 0.705  0.534 -0.466]\n",
      "[ 0.651 -0.749  0.126]\n",
      "[ 0.281  0.392  0.876]\n",
      "S= [ 4.36 0.000 0.000 0.000]\n",
      "[0.000  1.31 0.000 0.000]\n",
      "[0.000 0.000 0.553 0.000]\n",
      "V= [  0.461  -0.734  -0.386   0.316]\n",
      "[  0.687 -0.0283   0.356  -0.632]\n",
      "[  0.162   0.407  -0.841  -0.316]\n",
      "[  0.538   0.542   0.128   0.632]\n"
     ]
    }
   ],
   "source": [
    "# Define the matrix A\n",
    "A = matrix(QQ,[[1, 2, 1, 2], [2, 2, 0, 1], [0, 1, 0, 1]])\n",
    "show(A)\n",
    "\n",
    "A_real = A.change_ring(RDF)\n",
    "\n",
    "# Compute the SVD of A\n",
    "U, S, V = A_real.SVD()\n",
    "\n",
    "# Display the results\n",
    "print(\"U=\", n(U,digits=3))\n",
    "\n",
    "print(\"S=\",n(S,digits=3))\n",
    "\n",
    "print(\"V=\",n(V,digits=3))\n"
   ]
  },
  {
   "cell_type": "code",
   "execution_count": 133,
   "id": "1b5f1b21",
   "metadata": {},
   "outputs": [
    {
     "name": "stdout",
     "output_type": "stream",
     "text": [
      "A1= [ 1.42  2.11 0.498  1.65]\n",
      "[ 1.31  1.95 0.459  1.52]\n",
      "[0.564 0.842 0.198 0.659]\n"
     ]
    }
   ],
   "source": [
    "#b\n",
    "u1= U.column(0)\n",
    "v1= V.column(0)\n",
    "\n",
    "# Extract the largest singular value\n",
    "s1=S[0,0]\n",
    "\n",
    "# Rank-1 approximation of A\n",
    "A1= s1*(u1.outer_product(v1))\n",
    "print(\"A1=\",n(A1,digits=3))"
   ]
  },
  {
   "cell_type": "code",
   "execution_count": 134,
   "id": "1fb62f6e",
   "metadata": {},
   "outputs": [
    {
     "data": {
      "text/plain": [
       "[0.3061401411817207?, 1.721723836632226?, 18.97213602218606?]"
      ]
     },
     "execution_count": 134,
     "metadata": {},
     "output_type": "execute_result"
    }
   ],
   "source": [
    "#c\n",
    "AA_T = A * A.transpose();\n",
    "eigenvalues = AA_T.eigenvalues();\n",
    "eigenvalues"
   ]
  },
  {
   "cell_type": "code",
   "execution_count": null,
   "id": "0fa241a9",
   "metadata": {},
   "outputs": [],
   "source": []
  },
  {
   "cell_type": "markdown",
   "id": "1cc8e3a3",
   "metadata": {},
   "source": [
    "$\\textbf{Consider the function}$  \n",
    "f(x, y) = 100 ∗ (y − x2)2 + (2 − x − y)2 ,\n",
    "\n",
    "\n",
    "where (x, y) ∈ R2. Using Sagemath and working analytically\n",
    "\n",
    "\n",
    "(a) find the stationary points;  \n",
    "(b) calculate the function value at each stationary point;   \n",
    "(c) classify the stationary points according to their type (minima, maxima, saddle points);  \n",
    "(d) plot the function using a contour plot with appropriate bounds and depict the stationary points on\n",
    "this plot (in different colours depending on their type)"
   ]
  },
  {
   "cell_type": "code",
   "execution_count": 135,
   "id": "931ca2f0",
   "metadata": {},
   "outputs": [
    {
     "data": {
      "text/plain": [
       "[[x == 1, y == 1], [x == -2, y == 4], [x == (-1/2), y == (55/202)]]"
      ]
     },
     "execution_count": 135,
     "metadata": {},
     "output_type": "execute_result"
    }
   ],
   "source": [
    "# Define the variables\n",
    "x, y = var('x y')\n",
    "\n",
    "# Define the function\n",
    "f(x, y) = 100 * (y - x^2)^2 + (2 - x - y)^2\n",
    "\n",
    "# Compute the gradient\n",
    "grad_f = f.gradient()\n",
    "\n",
    "# Solve for stationary points\n",
    "stationary_points =  solve([eq == 0 for eq in grad_f], x, y)\n",
    "stationary_points\n"
   ]
  },
  {
   "cell_type": "code",
   "execution_count": 136,
   "id": "15fdafad",
   "metadata": {},
   "outputs": [
    {
     "data": {
      "text/plain": [
       "(0, 0, 2025/404)"
      ]
     },
     "execution_count": 136,
     "metadata": {},
     "output_type": "execute_result"
    }
   ],
   "source": [
    "f(x,y).subs(stationary_points[0]),f(x,y).subs(stationary_points[1]),f(x,y).subs(stationary_points[2])"
   ]
  },
  {
   "cell_type": "code",
   "execution_count": 137,
   "id": "dfea0526",
   "metadata": {},
   "outputs": [
    {
     "data": {
      "text/plain": [
       "([3.59855537930071, 1000.40144462070],\n",
       " [1.05790809916175, 3402.94209190084],\n",
       " [-4.50457569611063, 399.593684607002])"
      ]
     },
     "execution_count": 137,
     "metadata": {},
     "output_type": "execute_result"
    }
   ],
   "source": [
    "H = f.hessian(); H(x,y)\n",
    "\n",
    "sH=[H(x,y).substitute(s).eigenvalues() for s in stationary_points];\n",
    "\n",
    "p1=list(map(n,sH[0]))\n",
    "p2=list(map(n,sH[1]))\n",
    "p3=list(map(n,sH[2]))\n",
    "\n",
    "p1,p2,p3\n",
    "\n",
    "# p1, p2 = min (all positive)\n",
    "# p3 = saddle point\n"
   ]
  },
  {
   "cell_type": "markdown",
   "id": "5cfa4191",
   "metadata": {},
   "source": [
    "$\\textbf{Consider the following two sets of vectors}$  \n",
    "\n",
    "(i) $b1 = (1, 2, 2)^T$ , $b2 = (−1, 2, 1)^T$ , $b3 = (0, 8, 0)^T$  \n",
    "(ii) $b1 = (1, 2, 2)^T$ , $b2 = (−1, 2, 1)^T$ , $b3 = (0, 8, 6)^T$  \n",
    "\n",
    "Using Sagemath  \n",
    "(a) find which of these sets is/are basis/es in R3. Comment on the result.  \n",
    "(b) construct the corresponding orthonormal basis e1, e2, e3;  \n",
    "(c) verify that the vectors e1, e2, e3 are indeed orthonormal  \n",
    "(d) write the vector ⃗k = (1, 2, 3) in the basis e1, e2, e3;  "
   ]
  },
  {
   "cell_type": "code",
   "execution_count": 138,
   "id": "211f3374",
   "metadata": {},
   "outputs": [
    {
     "data": {
      "text/plain": [
       "(-24, 0)"
      ]
     },
     "execution_count": 138,
     "metadata": {},
     "output_type": "execute_result"
    }
   ],
   "source": [
    "# Define the vectors\n",
    "b1_1 = vector([1, 2, 2])\n",
    "b2_1 = vector([-1, 2, 1])\n",
    "b3_1 = vector([0, 8, 0])\n",
    "\n",
    "b1_2 = vector([1, 2, 2])\n",
    "b2_2 = vector([-1, 2, 1])\n",
    "b3_2 = vector([0, 8, 6])\n",
    "\n",
    "# Construct the matrices with these vectors as columns\n",
    "M1 = matrix([b1_1, b2_1, b3_1]).transpose()\n",
    "M2 = matrix([b1_2, b2_2, b3_2]).transpose()\n",
    "\n",
    "\n",
    "det(M1), det(M2)\n",
    "#if 0 the value then linear dependent NO BASIS of R3"
   ]
  },
  {
   "cell_type": "code",
   "execution_count": 139,
   "id": "47c75ff0",
   "metadata": {},
   "outputs": [
    {
     "data": {
      "text/plain": [
       "((3/61*sqrt(61), 6/61*sqrt(61), 4/61*sqrt(61)),\n",
       " (-3/61*sqrt(61), 6/61*sqrt(61), 4/61*sqrt(61)),\n",
       " (0, 12/145*sqrt(145), -1/145*sqrt(145)))"
      ]
     },
     "execution_count": 139,
     "metadata": {},
     "output_type": "execute_result"
    }
   ],
   "source": [
    "# Apply Gram-Schmidt process to obtain an orthonormal basis\n",
    "g,s = M1.gram_schmidt()\n",
    "\n",
    "# Extract the orthonormal basis vectors\n",
    "v1 = g.column(0)\n",
    "v2 = g.column(1)\n",
    "v3 = g.column(2)\n",
    "\n",
    "e1 = v1 / v1.norm()\n",
    "e2 = v2 / v2.norm()\n",
    "e3 = v3 / v3.norm()\n",
    "\n",
    "(e1, e2, e3)\n"
   ]
  },
  {
   "cell_type": "code",
   "execution_count": 140,
   "id": "838a91c8",
   "metadata": {},
   "outputs": [
    {
     "data": {
      "text/plain": [
       "(1, 1, 1, 43/61, 68/8845*sqrt(145)*sqrt(61), 68/8845*sqrt(145)*sqrt(61))"
      ]
     },
     "execution_count": 140,
     "metadata": {},
     "output_type": "execute_result"
    }
   ],
   "source": [
    "# Check norms\n",
    "norm_e1 = e1.norm()\n",
    "norm_e2 = e2.norm()\n",
    "norm_e3 = e3.norm()\n",
    "\n",
    "# Check orthogonality\n",
    "orthogonal_e1_e2 = e1.dot_product(e2)\n",
    "orthogonal_e1_e3 = e1.dot_product(e3)\n",
    "orthogonal_e2_e3 = e2.dot_product(e3)\n",
    "\n",
    "# Display results\n",
    "(norm_e1, norm_e2, norm_e3, orthogonal_e1_e2, orthogonal_e1_e3, orthogonal_e2_e3)"
   ]
  },
  {
   "cell_type": "code",
   "execution_count": 141,
   "id": "3f655944",
   "metadata": {},
   "outputs": [
    {
     "data": {
      "text/plain": [
       "(27/61*sqrt(61), 21/61*sqrt(61), 21/145*sqrt(145))"
      ]
     },
     "execution_count": 141,
     "metadata": {},
     "output_type": "execute_result"
    }
   ],
   "source": [
    "# Define the original vector k\n",
    "k = vector([1, 2, 3])\n",
    "\n",
    "# Project k onto each of the orthonormal basis vectors\n",
    "a = k.dot_product(e1)\n",
    "b = k.dot_product(e2)\n",
    "c = k.dot_product(e3)\n",
    "\n",
    "# Display the coefficients\n",
    "(a, b, c)\n"
   ]
  },
  {
   "cell_type": "code",
   "execution_count": null,
   "id": "8b2888d0",
   "metadata": {},
   "outputs": [],
   "source": []
  },
  {
   "cell_type": "markdown",
   "id": "673758a3",
   "metadata": {},
   "source": [
    "\n",
    "$\\textbf{Given the system}$  \n",
    "2y + λz + ω = 1  \n",
    "2x + 2y + 3ω = −1  \n",
    "x + 2y + ω = 0  \n",
    "3x + 5z + ω = 2  \n",
    "\n",
    "where λ is a parameter. \n",
    "\n",
    "Use Sagemath to  \n",
    "(a) find the value/es of λ for which the system has no solutions;  \n",
    "(b) for values of λ different than those of question (a) find and simplify (as far as possible) the solution of\n",
    "the system in terms of λ"
   ]
  },
  {
   "cell_type": "code",
   "execution_count": 142,
   "id": "76e19e85",
   "metadata": {},
   "outputs": [
    {
     "data": {
      "text/plain": [
       "[λ == -2]"
      ]
     },
     "execution_count": 142,
     "metadata": {},
     "output_type": "execute_result"
    }
   ],
   "source": [
    "λ = var('λ')\n",
    "x1,x2,x3,x4= var('x1,x2,x3,x4')\n",
    "\n",
    "# Set up the augmented matrix\n",
    "A = Matrix([[0, 2, λ, 1], [2, 2, 0, 3], [1, 2, 0, 1], [3, 0, 5, 1]])\n",
    "X = vector([x1,x2,x3,x4])\n",
    "Y = vector([1,-1,0,2])\n",
    "\n",
    "# Solve the system for lambda\n",
    "solutions = solve(det(A) == 0, λ)\n",
    "# Print the solutions\n",
    "solutions"
   ]
  },
  {
   "cell_type": "code",
   "execution_count": 143,
   "id": "8f57abd6",
   "metadata": {},
   "outputs": [
    {
     "data": {
      "text/plain": [
       "((λ - 2)/(λ + 2), 1/(λ + 2), 2/(λ + 2), -λ/(λ + 2))"
      ]
     },
     "execution_count": 143,
     "metadata": {},
     "output_type": "execute_result"
    }
   ],
   "source": [
    "X = (A^(-1)*Y).simplify_full()\n",
    "X"
   ]
  },
  {
   "cell_type": "code",
   "execution_count": 144,
   "id": "72337d27",
   "metadata": {},
   "outputs": [
    {
     "data": {
      "text/plain": [
       "(0, 1/4, 1/2, -1/2)"
      ]
     },
     "execution_count": 144,
     "metadata": {},
     "output_type": "execute_result"
    }
   ],
   "source": [
    "#Solutions for λ=2\n",
    "S = (A^(-1)*Y).substitute(λ=2)\n",
    "S\n"
   ]
  },
  {
   "cell_type": "code",
   "execution_count": null,
   "id": "ddf1e6c9",
   "metadata": {},
   "outputs": [],
   "source": []
  },
  {
   "cell_type": "markdown",
   "id": "27227f72",
   "metadata": {},
   "source": [
    "$\\textbf{find the projection}$  \n",
    "\n",
    "$P_b$ of the vector $b= \\begin{bmatrix} 1 \\\\ 2 \\\\ 3\\end{bmatrix}$ onto the subspace of $R^3$ spanned by the vectors \n",
    "\n",
    "$b1= \\begin{bmatrix} 1 \\\\ 0 \\\\ 1\\end{bmatrix}$ and \n",
    "$b2= \\begin{bmatrix} 1 \\\\ 1 \\\\ 0\\end{bmatrix}$\n",
    "\n",
    "(b) Compute the projection error eb\n",
    "(c) find the associated projection matrix for any x ∈ R^3."
   ]
  },
  {
   "cell_type": "code",
   "execution_count": 145,
   "id": "759229f9",
   "metadata": {},
   "outputs": [
    {
     "data": {
      "text/plain": [
       "(7/3, 2/3, 5/3)"
      ]
     },
     "execution_count": 145,
     "metadata": {},
     "output_type": "execute_result"
    }
   ],
   "source": [
    "# Define the vectors\n",
    "b = vector([1, 2, 3])\n",
    "b1 = vector([1, 0, 1])\n",
    "b2 = vector([1, 1, 0])\n",
    "\n",
    "# Create the matrix A whose columns are the basis vectors of the subspace\n",
    "A = matrix([b1, b2]).transpose()\n",
    "\n",
    "# Compute the projection matrix P\n",
    "P = A * (A.transpose() * A).inverse() * A.transpose()\n",
    "\n",
    "# Compute the projection Pb of b onto the subspace\n",
    "Pb = P * b\n",
    "\n",
    "Pb\n"
   ]
  },
  {
   "cell_type": "code",
   "execution_count": 146,
   "id": "5b5d4b3e",
   "metadata": {},
   "outputs": [
    {
     "data": {
      "text/plain": [
       "(-4/3, 4/3, 4/3)"
      ]
     },
     "execution_count": 146,
     "metadata": {},
     "output_type": "execute_result"
    }
   ],
   "source": [
    "eb = b - Pb\n",
    "\n",
    "eb"
   ]
  },
  {
   "cell_type": "code",
   "execution_count": 147,
   "id": "e846460a",
   "metadata": {},
   "outputs": [
    {
     "data": {
      "text/plain": [
       "[ 2/3  1/3  1/3]\n",
       "[ 1/3  2/3 -1/3]\n",
       "[ 1/3 -1/3  2/3]"
      ]
     },
     "execution_count": 147,
     "metadata": {},
     "output_type": "execute_result"
    }
   ],
   "source": [
    "# Create the matrix A whose columns are the basis vectors of the subspace\n",
    "A = matrix([b1, b2]).transpose()\n",
    "\n",
    "# Compute A^T A\n",
    "ATA = A.transpose() * A\n",
    "\n",
    "# Compute the inverse of A^T A\n",
    "ATA_inv = ATA.inverse()\n",
    "\n",
    "# Compute the projection matrix P\n",
    "P = A * ATA_inv * A.transpose()\n",
    "\n",
    "P"
   ]
  },
  {
   "cell_type": "code",
   "execution_count": null,
   "id": "59211679",
   "metadata": {},
   "outputs": [],
   "source": []
  }
 ],
 "metadata": {
  "kernelspec": {
   "display_name": "SageMath 9.5",
   "language": "sage",
   "name": "sagemath"
  },
  "language_info": {
   "codemirror_mode": {
    "name": "ipython",
    "version": 3
   },
   "file_extension": ".py",
   "mimetype": "text/x-python",
   "name": "python",
   "nbconvert_exporter": "python",
   "pygments_lexer": "ipython3",
   "version": "3.10.12"
  }
 },
 "nbformat": 4,
 "nbformat_minor": 5
}
