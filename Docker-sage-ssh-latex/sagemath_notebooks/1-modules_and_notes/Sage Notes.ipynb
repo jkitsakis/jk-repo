{
 "cells": [
  {
   "cell_type": "markdown",
   "id": "493d4607",
   "metadata": {},
   "source": [
    "provide answer in sage markdown window  with sage 9.3 simple code"
   ]
  },
  {
   "cell_type": "markdown",
   "id": "32cd09fe",
   "metadata": {},
   "source": [
    "$\\textbf{1. Consider the matrix}$\n",
    "\n",
    "$A=\\begin{bmatrix} 1 & 2 & 1 & 2 \\\\ 2 & k & 0 & 1 \\\\ 0 & 1 & 0 & 1   \\end{bmatrix}$\n",
    "\n",
    "where k = 1+(4 mod 3). \n",
    "\n",
    "Using Sagemath:  \n",
    "(a) Calculate numerically the SVD of A.  \n",
    "(b) Calculate the rank-1 approximation of A  \n",
    "(c) Derive the matrix $AA^T$ in the symbolic ring and find its exact eigenvectors and eigenvalues\n"
   ]
  },
  {
   "cell_type": "code",
   "execution_count": 140,
   "id": "70c24c43",
   "metadata": {},
   "outputs": [
    {
     "data": {
      "text/html": [
       "<html><script type=\"math/tex; mode=display\">\\newcommand{\\Bold}[1]{\\mathbf{#1}}\\left(\\begin{array}{rrrr}\n",
       "1 & 2 & 1 & 2 \\\\\n",
       "2 & 2 & 0 & 1 \\\\\n",
       "0 & 1 & 0 & 1\n",
       "\\end{array}\\right)</script></html>"
      ],
      "text/latex": [
       "$$\\newcommand{\\Bold}[1]{\\mathbf{#1}}\\left(\\begin{array}{rrrr}\n",
       "1 & 2 & 1 & 2 \\\\\n",
       "2 & 2 & 0 & 1 \\\\\n",
       "0 & 1 & 0 & 1\n",
       "\\end{array}\\right)$$"
      ],
      "text/plain": [
       "[1 2 1 2]\n",
       "[2 2 0 1]\n",
       "[0 1 0 1]"
      ]
     },
     "metadata": {},
     "output_type": "display_data"
    },
    {
     "ename": "TypeError",
     "evalue": "'sage.rings.integer.Integer' object is not callable",
     "output_type": "error",
     "traceback": [
      "\u001b[0;31m---------------------------------------------------------------------------\u001b[0m",
      "\u001b[0;31mTypeError\u001b[0m                                 Traceback (most recent call last)",
      "\u001b[0;32m/tmp/ipykernel_97/211258738.py\u001b[0m in \u001b[0;36m<module>\u001b[0;34m\u001b[0m\n\u001b[1;32m      9\u001b[0m \u001b[0;34m\u001b[0m\u001b[0m\n\u001b[1;32m     10\u001b[0m \u001b[0;31m# Display the results\u001b[0m\u001b[0;34m\u001b[0m\u001b[0;34m\u001b[0m\u001b[0m\n\u001b[0;32m---> 11\u001b[0;31m \u001b[0mprint\u001b[0m\u001b[0;34m(\u001b[0m\u001b[0;34m\"U=\"\u001b[0m\u001b[0;34m,\u001b[0m \u001b[0mn\u001b[0m\u001b[0;34m(\u001b[0m\u001b[0mU\u001b[0m\u001b[0;34m,\u001b[0m\u001b[0mdigits\u001b[0m\u001b[0;34m=\u001b[0m\u001b[0mInteger\u001b[0m\u001b[0;34m(\u001b[0m\u001b[0;36m3\u001b[0m\u001b[0;34m)\u001b[0m\u001b[0;34m)\u001b[0m\u001b[0;34m)\u001b[0m\u001b[0;34m\u001b[0m\u001b[0;34m\u001b[0m\u001b[0m\n\u001b[0m\u001b[1;32m     12\u001b[0m \u001b[0;34m\u001b[0m\u001b[0m\n\u001b[1;32m     13\u001b[0m \u001b[0mprint\u001b[0m\u001b[0;34m(\u001b[0m\u001b[0;34m\"S=\"\u001b[0m\u001b[0;34m,\u001b[0m\u001b[0mn\u001b[0m\u001b[0;34m(\u001b[0m\u001b[0mS\u001b[0m\u001b[0;34m,\u001b[0m\u001b[0mdigits\u001b[0m\u001b[0;34m=\u001b[0m\u001b[0mInteger\u001b[0m\u001b[0;34m(\u001b[0m\u001b[0;36m3\u001b[0m\u001b[0;34m)\u001b[0m\u001b[0;34m)\u001b[0m\u001b[0;34m)\u001b[0m\u001b[0;34m\u001b[0m\u001b[0;34m\u001b[0m\u001b[0m\n",
      "\u001b[0;31mTypeError\u001b[0m: 'sage.rings.integer.Integer' object is not callable"
     ]
    }
   ],
   "source": [
    "# Define the matrix A\n",
    "A = matrix(QQ,[[1, 2, 1, 2], [2, 2, 0, 1], [0, 1, 0, 1]])\n",
    "show(A)\n",
    "\n",
    "A_real = A.change_ring(RDF)\n",
    "\n",
    "# Compute the SVD of A\n",
    "U, S, V = A_real.SVD()\n",
    "\n",
    "# Display the results\n",
    "print(\"U=\", n(U,digits=3))\n",
    "\n",
    "print(\"S=\",n(S,digits=3))\n",
    "\n",
    "print(\"V=\",n(V,digits=3))\n"
   ]
  },
  {
   "cell_type": "code",
   "execution_count": null,
   "id": "1b5f1b21",
   "metadata": {},
   "outputs": [],
   "source": [
    "#b\n",
    "u1= U.column(0)\n",
    "v1= V.column(0)\n",
    "\n",
    "# Extract the largest singular value\n",
    "s1=S[0,0]\n",
    "\n",
    "# Rank-1 approximation of A\n",
    "A1= s1*(u1.outer_product(v1))\n",
    "print(\"A1=\",n(A1,digits=3))"
   ]
  },
  {
   "cell_type": "code",
   "execution_count": null,
   "id": "1fb62f6e",
   "metadata": {},
   "outputs": [],
   "source": [
    "#c\n",
    "AA_T = A * A.transpose();\n",
    "eigenvalues = AA_T.eigenvalues();\n",
    "eigenvalues"
   ]
  },
  {
   "cell_type": "code",
   "execution_count": null,
   "id": "0fa241a9",
   "metadata": {},
   "outputs": [],
   "source": []
  },
  {
   "cell_type": "markdown",
   "id": "1cc8e3a3",
   "metadata": {},
   "source": [
    "$\\textbf{2. Consider the function}$  \n",
    "f(x, y) = 100 ∗ (y − x2)2 + (2 − x − y)2 ,\n",
    "\n",
    "\n",
    "where (x, y) ∈ R2. Using Sagemath and working analytically\n",
    "\n",
    "\n",
    "(a) find the stationary points;  \n",
    "(b) calculate the function value at each stationary point;   \n",
    "(c) classify the stationary points according to their type (minima, maxima, saddle points);  \n",
    "(d) plot the function using a contour plot with appropriate bounds and depict the stationary points on\n",
    "this plot (in different colours depending on their type)"
   ]
  },
  {
   "cell_type": "code",
   "execution_count": null,
   "id": "931ca2f0",
   "metadata": {},
   "outputs": [],
   "source": [
    "# Define the variables\n",
    "x, y = var('x y')\n",
    "\n",
    "# Define the function\n",
    "f(x, y) = 100 * (y - x^2)^2 + (2 - x - y)^2\n",
    "\n",
    "# Compute the gradient\n",
    "grad_f = f.gradient()\n",
    "\n",
    "# Solve for stationary points\n",
    "stationary_points =  solve([eq == 0 for eq in grad_f], x, y)\n",
    "stationary_points\n"
   ]
  },
  {
   "cell_type": "code",
   "execution_count": null,
   "id": "15fdafad",
   "metadata": {},
   "outputs": [],
   "source": [
    "f(x,y).subs(stationary_points[0]),f(x,y).subs(stationary_points[1]),f(x,y).subs(stationary_points[2])"
   ]
  },
  {
   "cell_type": "code",
   "execution_count": null,
   "id": "dfea0526",
   "metadata": {},
   "outputs": [],
   "source": [
    "H = f.hessian(); H(x,y)\n",
    "\n",
    "sH=[H(x,y).substitute(s).eigenvalues() for s in stationary_points];\n",
    "\n",
    "p1=list(map(n,sH[0]))\n",
    "p2=list(map(n,sH[1]))\n",
    "p3=list(map(n,sH[2]))\n",
    "\n",
    "p1,p2,p3\n",
    "\n",
    "# p1, p2 = min (all positive)\n",
    "# p3 = saddle point\n"
   ]
  },
  {
   "cell_type": "markdown",
   "id": "5cfa4191",
   "metadata": {},
   "source": [
    "$\\textbf{3. Consider the following two sets of vectors}$  \n",
    "\n",
    "(i) $b1 = (1, 2, 2)^T$ , $b2 = (−1, 2, 1)^T$ , $b3 = (0, 8, 0)^T$  \n",
    "(ii) $b1 = (1, 2, 2)^T$ , $b2 = (−1, 2, 1)^T$ , $b3 = (0, 8, 6)^T$  \n",
    "\n",
    "Using Sagemath  \n",
    "(a) find which of these sets is/are basis/es in R3. Comment on the result.  \n",
    "(b) construct the corresponding orthonormal basis e1, e2, e3;  \n",
    "(c) verify that the vectors e1, e2, e3 are indeed orthonormal  \n",
    "(d) write the vector ⃗k = (1, 2, 3) in the basis e1, e2, e3;  "
   ]
  },
  {
   "cell_type": "code",
   "execution_count": null,
   "id": "211f3374",
   "metadata": {},
   "outputs": [],
   "source": [
    "# Define the vectors\n",
    "b1_1 = vector([1, 2, 2])\n",
    "b2_1 = vector([-1, 2, 1])\n",
    "b3_1 = vector([0, 8, 0])\n",
    "\n",
    "b1_2 = vector([1, 2, 2])\n",
    "b2_2 = vector([-1, 2, 1])\n",
    "b3_2 = vector([0, 8, 6])\n",
    "\n",
    "# Construct the matrices with these vectors as columns\n",
    "M1 = matrix([b1_1, b2_1, b3_1]).transpose()\n",
    "M2 = matrix([b1_2, b2_2, b3_2]).transpose()\n",
    "\n",
    "\n",
    "det(M1), det(M2)\n",
    "#if 0 the value then linearly dependent NO BASIS of R3"
   ]
  },
  {
   "cell_type": "code",
   "execution_count": null,
   "id": "47c75ff0",
   "metadata": {},
   "outputs": [],
   "source": [
    "# Apply Gram-Schmidt process to obtain an orthonormal basis\n",
    "orth_basis, norms = M1.gram_schmidt()\n",
    "\n",
    "# Extract the orthonormal basis vectors\n",
    "orth_basis1 = orth_basis.column(0)\n",
    "orth_basis2 = orth_basis.column(1)\n",
    "orth_basis3 = orth_basis.column(2)\n",
    "\n",
    "orthonormal_basis1 = orth_basis1 / norm(orth_basis1)\n",
    "orthonormal_basis2 = orth_basis2 / norm(orth_basis2)\n",
    "orthonormal_basis3 = orth_basis3 / norm(orth_basis3)\n",
    "\n",
    "(orthonormal_basis1, orthonormal_basis2, orthonormal_basis3)\n"
   ]
  },
  {
   "cell_type": "code",
   "execution_count": null,
   "id": "838a91c8",
   "metadata": {},
   "outputs": [],
   "source": [
    "# Check norms\n",
    "norm_e1 = e1.norm()\n",
    "norm_e2 = e2.norm()\n",
    "norm_e3 = e3.norm()\n",
    "\n",
    "# Check orthogonality\n",
    "orthogonal_e1_e2 = e1.dot_product(e2)\n",
    "orthogonal_e1_e3 = e1.dot_product(e3)\n",
    "orthogonal_e2_e3 = e2.dot_product(e3)\n",
    "\n",
    "# Display results\n",
    "(norm_e1, norm_e2, norm_e3, orthogonal_e1_e2, orthogonal_e1_e3, orthogonal_e2_e3)"
   ]
  },
  {
   "cell_type": "code",
   "execution_count": null,
   "id": "3f655944",
   "metadata": {},
   "outputs": [],
   "source": [
    "# Define the original vector k\n",
    "k = vector([1, 2, 3])\n",
    "\n",
    "# Project k onto each of the orthonormal basis vectors\n",
    "a = k.dot_product(e1)\n",
    "b = k.dot_product(e2)\n",
    "c = k.dot_product(e3)\n",
    "\n",
    "# Display the coefficients\n",
    "(a, b, c)\n"
   ]
  },
  {
   "cell_type": "code",
   "execution_count": null,
   "id": "8b2888d0",
   "metadata": {},
   "outputs": [],
   "source": []
  },
  {
   "cell_type": "markdown",
   "id": "673758a3",
   "metadata": {},
   "source": [
    "\n",
    "$\\textbf{4. Given the system}$  \n",
    "2y + λz + ω = 1  \n",
    "2x + 2y + 3ω = −1  \n",
    "x + 2y + ω = 0  \n",
    "3x + 5z + ω = 2  \n",
    "\n",
    "where λ is a parameter. \n",
    "\n",
    "Use Sagemath to  \n",
    "(a) find the value/es of λ for which the system has no solutions;  \n",
    "(b) for values of λ different than those of question (a) find and simplify (as far as possible) the solution of\n",
    "the system in terms of λ"
   ]
  },
  {
   "cell_type": "code",
   "execution_count": null,
   "id": "76e19e85",
   "metadata": {},
   "outputs": [],
   "source": [
    "λ = var('λ')\n",
    "x1,x2,x3,x4= var('x1,x2,x3,x4')\n",
    "\n",
    "# Set up the augmented matrix\n",
    "A = Matrix([[0, 2, λ, 1], [2, 2, 0, 3], [1, 2, 0, 1], [3, 0, 5, 1]])\n",
    "X = vector([x1,x2,x3,x4])\n",
    "Y = vector([1,-1,0,2])\n",
    "\n",
    "# Solve the system for lambda\n",
    "solutions = solve(det(A) == 0, λ)\n",
    "# Print the solutions\n",
    "solutions"
   ]
  },
  {
   "cell_type": "code",
   "execution_count": null,
   "id": "8f57abd6",
   "metadata": {},
   "outputs": [],
   "source": [
    "X = (A^(-1)*Y).simplify_full()\n",
    "X"
   ]
  },
  {
   "cell_type": "code",
   "execution_count": null,
   "id": "72337d27",
   "metadata": {},
   "outputs": [],
   "source": [
    "#Solutions for λ=2\n",
    "S = (A^(-1)*Y).substitute(λ=2)\n",
    "S\n"
   ]
  },
  {
   "cell_type": "code",
   "execution_count": null,
   "id": "ddf1e6c9",
   "metadata": {},
   "outputs": [],
   "source": []
  },
  {
   "cell_type": "markdown",
   "id": "27227f72",
   "metadata": {},
   "source": [
    "$\\textbf{5. Find the projection}$  \n",
    "\n",
    "$P_b$ of the vector $b= \\begin{bmatrix} 1 \\\\ 2 \\\\ 3\\end{bmatrix}$ onto the subspace of $R^3$ spanned by the vectors \n",
    "\n",
    "$b1= \\begin{bmatrix} 1 \\\\ 0 \\\\ 1\\end{bmatrix}$ and \n",
    "$b2= \\begin{bmatrix} 1 \\\\ 1 \\\\ 0\\end{bmatrix}$\n",
    "\n",
    "(b) Compute the projection error eb  \n",
    "(c) find the associated projection matrix for any x ∈ R^3."
   ]
  },
  {
   "cell_type": "code",
   "execution_count": null,
   "id": "759229f9",
   "metadata": {},
   "outputs": [],
   "source": [
    "# Define the vectors\n",
    "b = vector([1, 2, 3])\n",
    "b1 = vector([1, 0, 1])\n",
    "b2 = vector([1, 1, 0])\n",
    "\n",
    "# Create the matrix A whose columns are the basis vectors of the subspace\n",
    "A = matrix([b1, b2]).transpose()\n",
    "\n",
    "# Compute the projection matrix P\n",
    "P = A * (A.transpose() * A).inverse() * A.transpose()\n",
    "\n",
    "# Compute the projection Pb of b onto the subspace\n",
    "Pb = P * b\n",
    "\n",
    "Pb\n"
   ]
  },
  {
   "cell_type": "code",
   "execution_count": null,
   "id": "5b5d4b3e",
   "metadata": {},
   "outputs": [],
   "source": [
    "eb = b - Pb\n",
    "\n",
    "eb"
   ]
  },
  {
   "cell_type": "code",
   "execution_count": null,
   "id": "e846460a",
   "metadata": {},
   "outputs": [],
   "source": [
    "# Create the matrix A whose columns are the basis vectors of the subspace\n",
    "A = matrix([b1, b2]).transpose()\n",
    "\n",
    "# Compute A^T A\n",
    "ATA = A.transpose() * A\n",
    "\n",
    "# Compute the inverse of A^T A\n",
    "ATA_inv = ATA.inverse()\n",
    "\n",
    "# Compute the projection matrix P\n",
    "P = A * ATA_inv * A.transpose()\n",
    "\n",
    "P"
   ]
  },
  {
   "cell_type": "code",
   "execution_count": null,
   "id": "59211679",
   "metadata": {},
   "outputs": [],
   "source": []
  },
  {
   "cell_type": "markdown",
   "id": "a3e9b7b4",
   "metadata": {},
   "source": [
    "$\\textbf{6. Assume the system of equations in x, y, z, t}$  \n",
    "$ax + y + z + t = 1$  \n",
    "$x + ay + z + t = b$  \n",
    "$x + y + az + t = b^2$  \n",
    "$x + y + z + at = b^3$  \n",
    "where a, b are integer parameters.  \n",
    "\n",
    "Using sagemath  \n",
    "(a) find a formal solution of the system in terms of a, b  \n",
    "(b) determine the values of a, b for which the system has infinitely many solutions and the values of a, b for which the system is impossible;  \n",
    "(c) derive the full solution for a = the first digit of your academic ID, b = the last digit of your academic ID.  "
   ]
  },
  {
   "cell_type": "code",
   "execution_count": null,
   "id": "de281d79",
   "metadata": {},
   "outputs": [],
   "source": [
    "# Define variables\n",
    "var('x y z t')\n",
    "\n",
    "# Define parameters\n",
    "var('a b')\n",
    "\n",
    "# Define the system of equations\n",
    "eq1 = a*x + y + z + t == 1\n",
    "eq2 = x + a*y + z + t == b\n",
    "eq3 = x + y + a*z + t == b^2\n",
    "eq4 = x + y + z + a*t == b^3\n",
    "\n",
    "# Solve the system of equations\n",
    "solution = solve([eq1, eq2, eq3, eq4], x, y, z, t)\n",
    "solution\n"
   ]
  },
  {
   "cell_type": "code",
   "execution_count": null,
   "id": "3a6a43db",
   "metadata": {},
   "outputs": [],
   "source": [
    "# Define the coefficient matrix\n",
    "A = matrix(SR, [\n",
    "    [a, 1, 1, 1],\n",
    "    [1, a, 1, 1],\n",
    "    [1, 1, a, 1],\n",
    "    [1, 1, 1, a]\n",
    "])\n",
    "\n",
    "# Define the augmented matrix\n",
    "b_vector = vector(SR, [1, b, b^2, b^3])\n",
    "augmented_matrix = A.augment(b_vector, subdivide=True)\n",
    "\n",
    "# Calculate the determinant of the coefficient matrix\n",
    "det_A = A.det()\n",
    "\n",
    "# Calculate the rank of the coefficient matrix and the augmented matrix\n",
    "rank_A = A.rank()\n",
    "rank_augmented = augmented_matrix.rank()\n",
    "\n",
    "print('det_A = ',det_A)\n",
    "print('rank_A = ',rank_A)\n",
    "print('rank_augmented = ',rank_augmented)\n",
    "\n",
    "#1. Infinitely Many Solutions: \n",
    "# The system will have infinitely many solutions if det(A) = 0 and rank(A) = rank([A | b).\n",
    "\n",
    "#2. **No Solutions:** \n",
    "# The system will be inconsistent (impossible) if rank(A) < rank(A |b).\n",
    "solve(det_A==0,a)"
   ]
  },
  {
   "cell_type": "code",
   "execution_count": null,
   "id": "3cea3410",
   "metadata": {},
   "outputs": [],
   "source": [
    "# Substitute a = 9 and b = 2 into the equations\n",
    "eq1_sub = eq1.subs({a: 9, b: 2})\n",
    "eq2_sub = eq2.subs({a: 9, b: 2})\n",
    "eq3_sub = eq3.subs({a: 9, b: 2})\n",
    "eq4_sub = eq4.subs({a: 9, b: 2})\n",
    "\n",
    "# Solve the system of equations with the substituted values\n",
    "solution = solve([eq1_sub, eq2_sub, eq3_sub, eq4_sub], x, y, z, t)\n",
    "solution"
   ]
  },
  {
   "cell_type": "code",
   "execution_count": null,
   "id": "0a1bd3bf",
   "metadata": {},
   "outputs": [],
   "source": []
  },
  {
   "cell_type": "markdown",
   "id": "e25169d0",
   "metadata": {},
   "source": [
    "$\\textbf{7. Consider the Euclidean vector space}$  \n",
    "R5 with the Euclidean inner product. A subspace $U ⊂ R^5$ is defined by \n",
    "\n",
    "$\n",
    "\\mathbf{U} = span \\left\\{\n",
    "\\begin{bmatrix} 0 \\\\ -1 \\\\ 2 \\\\ 0 \\\\ 2 \\end{bmatrix},\n",
    "\\begin{bmatrix} 1 \\\\ -3 \\\\ 1 \\\\ -1 \\\\ 2 \\end{bmatrix},\n",
    "\\begin{bmatrix} -3 \\\\ 4 \\\\ 1 \\\\ 2 \\\\ 1 \\end{bmatrix},\n",
    "\\begin{bmatrix} -1 \\\\ -3 \\\\ 5 \\\\ 0 \\\\ 7 \\end{bmatrix}\n",
    "\\right\\}\n",
    "$\n",
    "\n",
    "Using Sagemath\n",
    "(a) check if the vectors that span 𝑈 are linearly independent;\n",
    "(b) find the projection matrix that maps R5 onto 𝑈;\n",
    "(c) find the projection of the vector $x= \\begin{bmatrix} -1 \\\\ 9 \\\\-1 \\\\ 4 \\\\1\\end{bmatrix}$ onto 𝑈;\n",
    "(d) compute the projection error in question (c) both analytically and numerically.  "
   ]
  },
  {
   "cell_type": "code",
   "execution_count": 141,
   "id": "d76dc187",
   "metadata": {},
   "outputs": [
    {
     "data": {
      "text/plain": [
       "(\n",
       "[ 0  1 -3 -1]          \n",
       "[-1 -3  4 -3]          \n",
       "[ 2  1  1  5]          \n",
       "[ 0 -1  2  0]          \n",
       "[ 2  2  1  7], 3, False\n",
       ")"
      ]
     },
     "execution_count": 141,
     "metadata": {},
     "output_type": "execute_result"
    }
   ],
   "source": [
    "# Define the vectors\n",
    "v1 = vector([0, -1, 2, 0, 2])\n",
    "v2 = vector([1, -3, 1, -1, 2])\n",
    "v3 = vector([-3, 4, 1, 2, 1])\n",
    "v4 = vector([-1, -3, 5, 0, 7])\n",
    "\n",
    "# Create a matrix with these vectors as columns\n",
    "M = matrix([v1, v2, v3, v4]).transpose()\n",
    "\n",
    "# Check the rank of the matrix\n",
    "rank = M.rank()\n",
    "rank\n",
    "\n",
    "# Check if the vectors are linearly independent\n",
    "is_independent = (rank == M.ncols())\n",
    "is_independent\n",
    "\n",
    "M, rank, is_independent\n"
   ]
  },
  {
   "cell_type": "code",
   "execution_count": 142,
   "id": "e61872f3",
   "metadata": {},
   "outputs": [
    {
     "data": {
      "text/plain": [
       "[10/21  -2/7  4/21  -1/7  -1/3]\n",
       "[ -2/7 43/63  4/63   2/7  -2/9]\n",
       "[ 4/21  4/63 58/63   1/7   1/9]\n",
       "[ -1/7   2/7   1/7   1/7     0]\n",
       "[ -1/3  -2/9   1/9     0   7/9]"
      ]
     },
     "execution_count": 142,
     "metadata": {},
     "output_type": "execute_result"
    }
   ],
   "source": [
    "# The four vectors are linearly dependent. \n",
    "# We can pick three of them as a basis, provided they are linearly independent\n",
    "\n",
    "# Create a matrix A with these vectors as columns\n",
    "A = matrix([v1, v2, v3]).transpose()\n",
    "\n",
    "# Calculate the projection matrix P = A (A^T A)^(-1) A^T\n",
    "P = A * (A.transpose() * A).inverse() * A.transpose()\n",
    "P\n"
   ]
  },
  {
   "cell_type": "code",
   "execution_count": 143,
   "id": "94c5bcfb",
   "metadata": {},
   "outputs": [
    {
     "data": {
      "text/plain": [
       "(-29/7, 51/7, 1/7, 22/7, -1)"
      ]
     },
     "execution_count": 143,
     "metadata": {},
     "output_type": "execute_result"
    }
   ],
   "source": [
    "# Define the vector x\n",
    "x = vector([-1, 9, -1, 4, 1])\n",
    "\n",
    "# Calculate the projection of x onto U\n",
    "projection = P * x\n",
    "projection"
   ]
  },
  {
   "cell_type": "code",
   "execution_count": 144,
   "id": "0a4b9e38",
   "metadata": {},
   "outputs": [
    {
     "data": {
      "text/plain": [
       "2*sqrt(33/7)"
      ]
     },
     "execution_count": 144,
     "metadata": {},
     "output_type": "execute_result"
    }
   ],
   "source": [
    "# Calculate the projection error e = x - p\n",
    "e = x - projection\n",
    "\n",
    "# Compute the Euclidean norm of the error vector\n",
    "error_norm = e.norm()\n",
    "error_norm"
   ]
  },
  {
   "cell_type": "code",
   "execution_count": null,
   "id": "a69b578d",
   "metadata": {},
   "outputs": [],
   "source": []
  },
  {
   "cell_type": "markdown",
   "id": "a250fc6b",
   "metadata": {},
   "source": [
    "$\\textbf{8. Consider the matrix}$  \n",
    "$A= \\begin{pmatrix} −2 & 6 & −3 \\\\ 6 & 3 & 2 \\\\ −3 & 2 & a \\end{pmatrix}$  \n",
    "\n",
    "where a is a real parameter and $x = (1, 1, 1)^T$\n",
    "\n",
    "Consider the case a = −18. Using Sagemath  \n",
    "(a) compute the eigenvalues and the eigenvectors of A;  \n",
    "(b) normalize the eigenvectors of A;  \n",
    "(c) compute (numerically with 3 significant digits) the components of x in the orthonormal basis of question (b)  \n",
    "(e) what is the algebraic multiplicity of each eigenvalue?  \n",
    "(f) are the eigenvectors orthogonal ? If not find an orthonormal basis."
   ]
  },
  {
   "cell_type": "code",
   "execution_count": 145,
   "id": "2bbf70fa",
   "metadata": {},
   "outputs": [
    {
     "name": "stdout",
     "output_type": "stream",
     "text": [
      "eigenvalues:  [-7, 7, 7]\n",
      "eigenvectors:  [(-7, [\n",
      "(1, -2/3, 1/3)\n",
      "], 1), (7, [\n",
      "(1, 0, -3),\n",
      "(0, 1, 2)\n",
      "], 2)]\n"
     ]
    },
    {
     "data": {
      "text/plain": [
       "(1, 2)"
      ]
     },
     "execution_count": 145,
     "metadata": {},
     "output_type": "execute_result"
    }
   ],
   "source": [
    "a = 6\n",
    "A = matrix(QQ, [[-2, 6, -3], [6, 3, 2], [-3, 2, a]])\n",
    "\n",
    "# Define the vector x\n",
    "x = vector([1, 1, 1])\n",
    "\n",
    "# Extract eigenvalues and eigenvectors\n",
    "eigenvalues = A.eigenvalues()\n",
    "eigenvectors = A.eigenvectors_right()\n",
    "\n",
    "print('eigenvalues: ' ,eigenvalues) \n",
    "print('eigenvectors: ' ,eigenvectors)\n",
    "\n",
    "#The algebraic multiplicities of the eigenvalues are\n",
    "eigenvectors[0][2], eigenvectors[1][2]"
   ]
  },
  {
   "cell_type": "code",
   "execution_count": 146,
   "id": "0ccfa219",
   "metadata": {},
   "outputs": [
    {
     "data": {
      "text/plain": [
       "[(3/14*sqrt(14), -1/7*sqrt(14), 1/14*sqrt(14)),\n",
       " (1/10*sqrt(10), 0, -3/10*sqrt(10))]"
      ]
     },
     "execution_count": 146,
     "metadata": {},
     "output_type": "execute_result"
    }
   ],
   "source": [
    "# Normalize the eigenvectors\n",
    "normalized_eigenvectors = [v[1][0].normalized() for v in eigenvectors]\n",
    "\n",
    "normalized_eigenvectors"
   ]
  },
  {
   "cell_type": "code",
   "execution_count": 147,
   "id": "82575d60",
   "metadata": {},
   "outputs": [
    {
     "data": {
      "text/plain": [
       "(-1.87, 7.91)"
      ]
     },
     "execution_count": 147,
     "metadata": {},
     "output_type": "execute_result"
    }
   ],
   "source": [
    "\n",
    "# Form the change of basis matrix P\n",
    "P = matrix(normalized_eigenvectors).transpose()\n",
    "\n",
    "# Compute the components of x in the new basis\n",
    "components_in_new_basis = P.solve_right(x)\n",
    "\n",
    "# Display components with 3 significant digits\n",
    "components_in_new_basis.n(digits=3)"
   ]
  },
  {
   "cell_type": "code",
   "execution_count": 148,
   "id": "0680fc83",
   "metadata": {},
   "outputs": [
    {
     "data": {
      "text/plain": [
       "(0, 0, -6)"
      ]
     },
     "execution_count": 148,
     "metadata": {},
     "output_type": "execute_result"
    }
   ],
   "source": [
    "#Get the eigenvectors \n",
    "u1,u2,u3=eigenvectors[0][1][0],eigenvectors[1][1][0],eigenvectors[1][1][1]\n",
    "u1,u2,u3\n",
    "\n",
    "#If any entry is non-zero, then the eigenvectors are not orthogonal\n",
    "#If the eigenvectors are not orthogonal, we can find an orthonormal basis using the Gram-Schmidt process. Here’s how you can do it in SageMath:\n",
    "\n",
    "u1.dot_product(u2),u1.dot_product(u3),u2.dot_product(u3)"
   ]
  },
  {
   "cell_type": "code",
   "execution_count": 149,
   "id": "61ca2c8a",
   "metadata": {},
   "outputs": [
    {
     "data": {
      "text/plain": [
       "(((3/14*sqrt(14), -1/7*sqrt(14), 1/14*sqrt(14)),),\n",
       " ((1/10*sqrt(10), 0, -3/10*sqrt(10)),),\n",
       " (3/7*sqrt(7/5), 5/7*sqrt(7/5), 1/7*sqrt(7/5)))"
      ]
     },
     "execution_count": 149,
     "metadata": {},
     "output_type": "execute_result"
    }
   ],
   "source": [
    "#Gram-Schmidt process\n",
    "nb=matrix(QQ,[u1,u2,u3]);\n",
    "orthogonal_basis, norms = nb.gram_schmidt()\n",
    "orthogonal_basis, norms \n",
    "\n",
    "# Normalize the orthogonalized vectors to get an orthonormal basis\n",
    "orthonormal_basis1= orthogonal_basis[0].normalized(),\n",
    "orthonormal_basis2= orthogonal_basis[1].normalized(),\n",
    "orthonormal_basis3= orthogonal_basis[2].normalized();\n",
    "\n",
    "orthonormal_basis1,orthonormal_basis2,orthonormal_basis3"
   ]
  },
  {
   "cell_type": "code",
   "execution_count": null,
   "id": "22facec5",
   "metadata": {},
   "outputs": [],
   "source": []
  },
  {
   "cell_type": "markdown",
   "id": "1fc9f4de",
   "metadata": {},
   "source": [
    "$\\textbf{9. Consider the function}$ \n",
    "$𝑓(𝑥) = ln (1 + 𝑒^𝑥)$ utilised in machine learning. \n",
    "\n",
    "Using sagemath\n",
    "\n",
    "(i) Compute the Taylor approximation of 𝑓(𝑥) around 𝑥 = 0 including terms up to 10-th order in 𝑥 (use series function).  \n",
    "(ii) Plot the softplus function as well as the Taylor approximation of question (i) in a combined\n",
    "plot in the region −5 < 𝑥 < 5, −1 < 𝑦 < 4 (use different colors and styles for the two curves)\n",
    "and comment on the region of validity of the approximation.  \n",
    "(iii) Compute the derivative of 𝑓(𝑥) analytically  \n",
    "(iv) Compute the derivative of 𝑓(𝑥) approximately using the result of (i).  \n",
    "(v) Plot the results of (iii) and (iv) in a combined plot in the region −5 < 𝑥 < 5, −1 < 𝑦 < 1\n",
    "(use different colors and styles for the two curves)."
   ]
  },
  {
   "cell_type": "code",
   "execution_count": 150,
   "id": "63a87a7d",
   "metadata": {},
   "outputs": [
    {
     "data": {
      "text/plain": [
       "31/14515200*x^10 - 17/645120*x^8 + 1/2880*x^6 - 1/192*x^4 + 1/8*x^2 + 1/2*x + log(2)"
      ]
     },
     "execution_count": 150,
     "metadata": {},
     "output_type": "execute_result"
    }
   ],
   "source": [
    "# Define the variable and the function\n",
    "var('x')\n",
    "f = log(1 + exp(x))\n",
    "\n",
    "# Compute the Taylor series approximation of f(x) around x = 0 up to the 10th order\n",
    "taylor_approximation = f.taylor(x, 0, 10)\n",
    "\n",
    "taylor_approximation\n"
   ]
  },
  {
   "cell_type": "code",
   "execution_count": 151,
   "id": "4022254d",
   "metadata": {},
   "outputs": [
    {
     "data": {
      "image/png": "[encoded data removed]",
      "text/plain": [
       "Graphics object consisting of 2 graphics primitives"
      ]
     },
     "execution_count": 151,
     "metadata": {},
     "output_type": "execute_result"
    }
   ],
   "source": [
    "# Plot the softplus function\n",
    "softplus_plot = plot(f, (x, -5, 5),  color='blue')\n",
    "\n",
    "# Plot the Taylor approximation\n",
    "taylor_plot = plot(taylor_approximation, (x, -5, 5), ymin=-1, ymax=4, color='red', linestyle='--')\n",
    "\n",
    "# Combine the plots\n",
    "combined_plot = softplus_plot + taylor_plot\n",
    "\n",
    "# Show the combined plot with a legend\n",
    "combined_plot"
   ]
  },
  {
   "cell_type": "code",
   "execution_count": 152,
   "id": "a3f0aba2",
   "metadata": {},
   "outputs": [
    {
     "data": {
      "text/plain": [
       "e^x/(e^x + 1)"
      ]
     },
     "execution_count": 152,
     "metadata": {},
     "output_type": "execute_result"
    }
   ],
   "source": [
    "# Compute the derivative of the function\n",
    "f_prime = diff(f, x)\n",
    "\n",
    "f_prime"
   ]
  },
  {
   "cell_type": "code",
   "execution_count": 153,
   "id": "72c8c65e",
   "metadata": {},
   "outputs": [
    {
     "data": {
      "text/plain": [
       "31/1451520*x^9 - 17/80640*x^7 + 1/480*x^5 - 1/48*x^3 + 1/4*x + 1/2"
      ]
     },
     "execution_count": 153,
     "metadata": {},
     "output_type": "execute_result"
    }
   ],
   "source": [
    "# Differentiate the Taylor series approximation term-by-term\n",
    "taylor_approximation_derivative = taylor_approximation.diff(x)\n",
    "taylor_approximation_derivative"
   ]
  },
  {
   "cell_type": "code",
   "execution_count": null,
   "id": "7834250d",
   "metadata": {},
   "outputs": [],
   "source": []
  }
 ],
 "metadata": {
  "kernelspec": {
   "display_name": "SageMath 9.5",
   "language": "sage",
   "name": "sagemath"
  },
  "language_info": {
   "codemirror_mode": {
    "name": "ipython",
    "version": 3
   },
   "file_extension": ".py",
   "mimetype": "text/x-python",
   "name": "python",
   "nbconvert_exporter": "python",
   "pygments_lexer": "ipython3",
   "version": "3.10.12"
  }
 },
 "nbformat": 4,
 "nbformat_minor": 5
}
