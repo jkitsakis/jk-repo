{
 "cells": [
  {
   "cell_type": "markdown",
   "id": "32cd09fe",
   "metadata": {},
   "source": [
    "Consider the matrix\n",
    "$A=\\begin{bmatrix} 1 & 2 & 1 & 2 \\\\ 2 & k & 0 & 1 \\\\ 0 & 1 & 0 & 1   \\end{bmatrix}$\n",
    "\n",
    "where k = 1+(4 mod 3). Using Sagemath:\n",
    "(a) Calculate numerically the SVD of A.  \n",
    "(b) Calculate the rank-1 approximation of A  \n",
    "(c) Derive the matrix $AA^T$ in the symbolic ring and find its exact eigenvectors and eigenvalues"
   ]
  },
  {
   "cell_type": "code",
   "execution_count": 27,
   "id": "70c24c43",
   "metadata": {},
   "outputs": [
    {
     "data": {
      "text/html": [
       "<html><script type=\"math/tex; mode=display\">\\newcommand{\\Bold}[1]{\\mathbf{#1}}\\left(\\begin{array}{rrrr}\n",
       "1 & 2 & 1 & 2 \\\\\n",
       "2 & 2 & 0 & 1 \\\\\n",
       "0 & 1 & 0 & 1\n",
       "\\end{array}\\right)</script></html>"
      ],
      "text/latex": [
       "$$\\newcommand{\\Bold}[1]{\\mathbf{#1}}\\left(\\begin{array}{rrrr}\n",
       "1 & 2 & 1 & 2 \\\\\n",
       "2 & 2 & 0 & 1 \\\\\n",
       "0 & 1 & 0 & 1\n",
       "\\end{array}\\right)$$"
      ],
      "text/plain": [
       "[1 2 1 2]\n",
       "[2 2 0 1]\n",
       "[0 1 0 1]"
      ]
     },
     "metadata": {},
     "output_type": "display_data"
    },
    {
     "name": "stdout",
     "output_type": "stream",
     "text": [
      "U= [ 0.705  0.534 -0.466]\n",
      "[ 0.651 -0.749  0.126]\n",
      "[ 0.281  0.392  0.876]\n",
      "S= [ 4.36 0.000 0.000 0.000]\n",
      "[0.000  1.31 0.000 0.000]\n",
      "[0.000 0.000 0.553 0.000]\n",
      "V= [  0.461  -0.734  -0.386   0.316]\n",
      "[  0.687 -0.0283   0.356  -0.632]\n",
      "[  0.162   0.407  -0.841  -0.316]\n",
      "[  0.538   0.542   0.128   0.632]\n"
     ]
    }
   ],
   "source": [
    "# Define the matrix A\n",
    "A = matrix(QQ,[[1, 2, 1, 2], [2, 2, 0, 1], [0, 1, 0, 1]])\n",
    "show(A)\n",
    "\n",
    "A_real = A.change_ring(RDF)\n",
    "\n",
    "# Compute the SVD of A\n",
    "U, S, V = A_real.SVD()\n",
    "\n",
    "# Display the results\n",
    "print(\"U=\", n(U,digits=3))\n",
    "\n",
    "print(\"S=\",n(S,digits=3))\n",
    "\n",
    "print(\"V=\",n(V,digits=3))\n"
   ]
  },
  {
   "cell_type": "code",
   "execution_count": 30,
   "id": "1b5f1b21",
   "metadata": {},
   "outputs": [
    {
     "name": "stdout",
     "output_type": "stream",
     "text": [
      "4.355701553387934\n",
      "A1= [ 1.42  2.11 0.498  1.65]\n",
      "[ 1.31  1.95 0.459  1.52]\n",
      "[0.564 0.842 0.198 0.659]\n"
     ]
    }
   ],
   "source": [
    "#b\n",
    "u1= U.column(0)\n",
    "v1= V.column(0)\n",
    "\n",
    "# Extract the largest singular value\n",
    "s1=S[0,0]\n",
    "\n",
    "# Rank-1 approximation of A\n",
    "A1= s1*(u1.outer_product(v1))\n",
    "print(\"A1=\",n(A1,digits=3))"
   ]
  },
  {
   "cell_type": "code",
   "execution_count": 35,
   "id": "1fb62f6e",
   "metadata": {},
   "outputs": [
    {
     "data": {
      "text/plain": [
       "[0.3061401411817207?, 1.721723836632226?, 18.97213602218606?]"
      ]
     },
     "execution_count": 35,
     "metadata": {},
     "output_type": "execute_result"
    }
   ],
   "source": [
    "#c\n",
    "AA_T = A * A.transpose();\n",
    "eigenvalues = AA_T.eigenvalues();\n",
    "eigenvalues"
   ]
  },
  {
   "cell_type": "code",
   "execution_count": null,
   "id": "0fa241a9",
   "metadata": {},
   "outputs": [],
   "source": []
  }
 ],
 "metadata": {
  "kernelspec": {
   "display_name": "SageMath 9.5",
   "language": "sage",
   "name": "sagemath"
  },
  "language_info": {
   "codemirror_mode": {
    "name": "ipython",
    "version": 3
   },
   "file_extension": ".py",
   "mimetype": "text/x-python",
   "name": "python",
   "nbconvert_exporter": "python",
   "pygments_lexer": "ipython3",
   "version": "3.10.12"
  }
 },
 "nbformat": 4,
 "nbformat_minor": 5
}
