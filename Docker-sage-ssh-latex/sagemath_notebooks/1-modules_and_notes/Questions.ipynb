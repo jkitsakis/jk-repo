{
 "cells": [
  {
   "cell_type": "code",
   "execution_count": null,
   "id": "ef65e0c3",
   "metadata": {},
   "outputs": [],
   "source": []
  },
  {
   "cell_type": "markdown",
   "id": "3981a821",
   "metadata": {},
   "source": [
    "The matrix $A= \\begin{bmatrix} 2 & 2 & 2 \\\\2 & 2 & 2 \\\\ 2 & 2 & 0 \\end{bmatrix}$\n",
    "is  \n",
    "• not positive semidefinite.  \n",
    "• positive semidefinite (but not positive definite).  \n",
    "• positive definite.  \n",
    "• non-symmetric.  \n",
    "• non-square."
   ]
  },
  {
   "cell_type": "markdown",
   "id": "e9dc29ac",
   "metadata": {},
   "source": [
    "Given $M= \\begin{bmatrix} 1 & l & -1 \\\\l & 1 & 2 \\\\ -1 & 2 & 5 \\end{bmatrix}$, where l a real parameter, the roots of the equation det(M) = 0 are"
   ]
  },
  {
   "cell_type": "markdown",
   "id": "ff51619b",
   "metadata": {},
   "source": [
    "Given the matrices \n",
    "$A= \\begin{bmatrix} 1  \\\\ 2 \\end{bmatrix}$  \n",
    "$B= \\begin{bmatrix} 0 & 1 \\\\ 1 & 0 \\\\ 3 & 1 \\end{bmatrix}$  \n",
    "$C= \\begin{bmatrix} 1  & -1 \\end{bmatrix}$  \n",
    "\n",
    "which of the following equals $D= \\begin{bmatrix} 2  \\\\ 1 \\\\ 5 \\end{bmatrix}$  ? \n",
    "\n",
    "• BA\n",
    "• AC\n",
    "• BC\n",
    "• CA\n",
    "• none of these"
   ]
  },
  {
   "cell_type": "markdown",
   "id": "8f38d845",
   "metadata": {},
   "source": [
    "Which of the following functions is/are convex ?  \n",
    "(a) $f(x) = x^2$ on R ,   \n",
    "(b) $f(x) = 3x + 2$ on R ,   \n",
    "(c) $f(x, y) = e^{−x−y} $ on $R^2$"
   ]
  },
  {
   "cell_type": "markdown",
   "id": "89004bb6",
   "metadata": {},
   "source": [
    "A fair die is thrown twice. Let the events A =“sum of the throws equals 4”, B =“at least one of the throws is a 3”. What is P (A|B) ?"
   ]
  },
  {
   "cell_type": "markdown",
   "id": "8c476f34",
   "metadata": {},
   "source": [
    "Let $a = (1, −1, 1)^T$ , $b = (1, −1, −1)^T$ and θ the angle between the two vectors. cos θ equal \n",
    "• 1/3\n",
    "• 0\n",
    "• 2/3\n",
    "• 1/√2\n",
    "• None of these"
   ]
  },
  {
   "cell_type": "markdown",
   "id": "6ade0df9",
   "metadata": {},
   "source": [
    "Given the function $f(x, y) = xe^{x+y}$, the second order partial derivative $\\frac{∂^2f}{∂x∂y}$ equals"
   ]
  },
  {
   "cell_type": "markdown",
   "id": "817f2e7c",
   "metadata": {},
   "source": [
    "The gradient of the function f(x, y) = x ln(y), at (x, y) = (1, 1) equals"
   ]
  },
  {
   "cell_type": "markdown",
   "id": "dcfbe38e",
   "metadata": {},
   "source": [
    "A mathematics test is given to a class of 24 students. Two students score 0 and all other students score 12. What is the standard error of the mean score  \n",
    "• None of these  \n",
    "• $\\frac{\\sqrt{11}}{12}$  \n",
    "• 0  \n",
    "• $\\sqrt{2}$  \n",
    "• $\\sqrt{11}$"
   ]
  },
  {
   "cell_type": "markdown",
   "id": "72362a4f",
   "metadata": {},
   "source": [
    "For which value of q the rank of the matrix \n",
    "$B= \\begin{bmatrix} 3 & 1 & 3 \\\\q & 2 & q \\end{bmatrix}$ equals one ?"
   ]
  },
  {
   "cell_type": "markdown",
   "id": "ccc3ee01",
   "metadata": {},
   "source": [
    "The Jacobian of the function \n",
    "$f : R^2 → R^2$ , \n",
    "$f(x, y) = \\begin{bmatrix} xy \\\\(x^2 − y^2)/2 \\end{bmatrix}$  equals"
   ]
  },
  {
   "cell_type": "markdown",
   "id": "577b7712",
   "metadata": {},
   "source": [
    "Which of the following matrices is/are NOT in reduced row echelon form:  \n",
    "$A=\\begin{bmatrix} 1 & 0 & 0 \\\\ 0 & 2 & -1 \\\\ 0 & 0 & 0 \\end{bmatrix}$  \n",
    "$B=\\begin{bmatrix} 0 & 1 & 0 & 1 \\\\ 0 & 0 & 1 & 0 \\end{bmatrix}$  \n",
    "$C=\\begin{bmatrix} 0 & 1  \\\\  1 & 0 \\end{bmatrix}$  \n",
    "$D=\\begin{bmatrix} 1 & 0 & -3 \\\\ 0 & 1 & 0 \\\\ 0 & 0 & 1 \\end{bmatrix}$  \n",
    "\n"
   ]
  },
  {
   "cell_type": "markdown",
   "id": "fe5f17ee",
   "metadata": {},
   "source": [
    "Which of the following relations involving determinants and traces of the n × n real matrices A, B, C and a real number λ is wrong (in general) ?  \n",
    "• tr(ABC) = tr(BAC)  \n",
    "• tr(A + B) = tr(A) + tr(B)  \n",
    "• det(λA) = λn det(A)  \n",
    "• det(A) = det(AT)  \n",
    "• tr(λA) = λ tr(A)"
   ]
  },
  {
   "cell_type": "markdown",
   "id": "f74ea6e3",
   "metadata": {},
   "source": [
    "Which of the following polynomials coincides with the characteristic polynomial of the matrix \n",
    "\n",
    "$A= \\begin{bmatrix} 1 & 1 \\\\ 1 & 1 \\end{bmatrix}$\n",
    "\n",
    "• λ(λ − 2)  \n",
    "• $λ^2$   \n",
    "• $λ^2$ + 1  \n",
    "• 0 "
   ]
  },
  {
   "cell_type": "code",
   "execution_count": null,
   "id": "f059fe57",
   "metadata": {},
   "outputs": [],
   "source": []
  },
  {
   "cell_type": "markdown",
   "id": "6ee62b4c",
   "metadata": {},
   "source": [
    "Consider the following two sets of vectors  \n",
    "\n",
    "(i) $b1 = (1, 2, 2)^T$ , $b2 = (−1, 2, 1)^T$ , $b3 = (0, 8, 0)^T$  \n",
    "\n",
    "(ii) $b1 = (1, 2, 2)^T$ , $b2 = (−1, 2, 1)^T$ , $b3 = (0, 8, 6)^T$  \n",
    "\n",
    "Using Sagemath  \n",
    "(a) find which of these sets is/are basis/es in R3. Comment on the result. For the set/s that is/are basis/es"
   ]
  },
  {
   "cell_type": "code",
   "execution_count": null,
   "id": "9e033bce",
   "metadata": {},
   "outputs": [],
   "source": []
  },
  {
   "cell_type": "markdown",
   "id": "1012b4a0",
   "metadata": {},
   "source": [
    "Consider the function $f(x, y, z) = xy + z$  \n",
    "where $x(t) = sin(t)$, $y(t) = cos(t)$ and $z(t) = t$. \n",
    "\n",
    "The derivative of the function with respect to t equals   \n",
    "• $2cos^2(t)$  \n",
    "• $cos^2(t) − sin^2(t)$  \n",
    "• 1 + sin(2t)  \n",
    "• 1 + sin(t) + cos(t)  \n",
    "• None of these  "
   ]
  },
  {
   "cell_type": "code",
   "execution_count": null,
   "id": "b9976ced",
   "metadata": {},
   "outputs": [],
   "source": []
  }
 ],
 "metadata": {
  "kernelspec": {
   "display_name": "Python 3 (ipykernel)",
   "language": "python",
   "name": "python3"
  },
  "language_info": {
   "codemirror_mode": {
    "name": "ipython",
    "version": 3
   },
   "file_extension": ".py",
   "mimetype": "text/x-python",
   "name": "python",
   "nbconvert_exporter": "python",
   "pygments_lexer": "ipython3",
   "version": "3.10.12"
  }
 },
 "nbformat": 4,
 "nbformat_minor": 5
}
