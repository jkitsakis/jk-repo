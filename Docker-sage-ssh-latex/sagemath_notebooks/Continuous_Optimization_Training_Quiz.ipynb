{
 "cells": [
  {
   "cell_type": "markdown",
   "id": "4126847a",
   "metadata": {},
   "source": [
    "$\\textbf{Question1}$ \n",
    "\n",
    "The univariate function $1+x^2−x^4/4$ exhibits stationary points at $x=–\\sqrt{2}$, x=0, and $x=\\sqrt{2}$.  These are, respectively. \n",
    "\n",
    "a. a saddle point, a maximum and a minimum.\n",
    "\n",
    "b. a maximum,  a minimum, and a maximum.\n",
    "\n",
    "c. three maxima.\n",
    "\n",
    "d. a minimum, a saddle point and a maximum.\n",
    "\n",
    "e. a minimum,  a maximum, and a minimum.\n",
    "\n",
    "\n",
    "$\\textbf{Answer}$"
   ]
  },
  {
   "cell_type": "markdown",
   "id": "ff4c2725",
   "metadata": {},
   "source": [
    "To determine the nature of the stationary points of the function $f(x) = 1 + x^2 - \\frac{x^4}{4}$, we need to examine the sign of the second derivative $f''(x)$ at each stationary point.\n",
    "\n",
    "Given $f(x) = 1 + x^2 - \\frac{x^4}{4}$, we can find the first and second derivatives as follows:\n",
    "\n",
    "$f'(x) = 2x - x^3$\n",
    "$f''(x) = 2 - 3x^2$\n",
    "\n",
    "Now let's evaluate $f''(x)$ at each stationary point:\n",
    "\n",
    "1. $x = -\\sqrt{2}$: $f''(-\\sqrt{2}) = 2 - 3(-\\sqrt{2})^2 = 2 - 3(2) = 2 - 6 = -4$\n",
    "2. $x = 0$: $f''(0) = 2 - 3(0)^2 = 2$\n",
    "3. $x = \\sqrt{2}$: $f''(\\sqrt{2}) = 2 - 3(\\sqrt{2})^2 = 2 - 3(2) = 2 - 6 = -4$\n",
    "\n",
    "From these calculations, we can determine the concavity at each point:\n",
    "\n",
    "- $x = -\\sqrt{2}$: Concave down (negative second derivative), so it's a local maximum.\n",
    "- $x = 0$: Concave up (positive second derivative), so it's a local minimum.\n",
    "- $x = \\sqrt{2}$: Concave down (negative second derivative), so it's a local maximum.\n",
    "\n",
    "So, the correct answer is:\n",
    "\n",
    "**b. a maximum, a minimum, and a maximum.**"
   ]
  },
  {
   "cell_type": "code",
   "execution_count": null,
   "id": "ee6bca73",
   "metadata": {},
   "outputs": [],
   "source": []
  }
 ],
 "metadata": {
  "kernelspec": {
   "display_name": "SageMath 9.5",
   "language": "sage",
   "name": "sagemath"
  },
  "language_info": {
   "codemirror_mode": {
    "name": "ipython",
    "version": 3
   },
   "file_extension": ".py",
   "mimetype": "text/x-python",
   "name": "python",
   "nbconvert_exporter": "python",
   "pygments_lexer": "ipython3",
   "version": "3.10.12"
  }
 },
 "nbformat": 4,
 "nbformat_minor": 5
}
