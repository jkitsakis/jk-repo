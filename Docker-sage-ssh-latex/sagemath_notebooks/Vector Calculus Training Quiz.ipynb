{
 "cells": [
  {
   "cell_type": "markdown",
   "id": "842c3eab",
   "metadata": {},
   "source": [
    "$\\textbf{Question1}$  \n",
    "\n",
    "\n",
    "The derivative of the hyperbolic function $\\tanh(x) = \\frac{e^{x}-e^{-x}}{e^{x}+e^{-x}}$ ,  that is used in Neural Networks as an activation function, equals to :\n",
    "\n",
    "$\\textbf{Answer}$"
   ]
  },
  {
   "cell_type": "markdown",
   "id": "97f5ae02",
   "metadata": {},
   "source": [
    "\n",
    "The hyperbolic tangent function is defined as:\n",
    "\n",
    "$ \\tanh(x) = \\frac{e^{x} - e^{-x}}{e^{x} + e^{-x}} $\n",
    "\n",
    "Now, let's find its derivative with respect to $x$:\n",
    "\n",
    "$ \\frac{d}{dx}(\\tanh(x)) $\n",
    "\n",
    "To simplify the calculation, let's first express $\\tanh(x)$ as a combination of exponentials:\n",
    "\n",
    "$ \\tanh(x) = \\frac{e^{x} - e^{-x}}{e^{x} + e^{-x}} $\n",
    "\n",
    "Multiply the numerator and denominator by $e^x$ to eliminate the fraction:\n",
    "\n",
    "$ \\tanh(x) = \\frac{e^{2x} - 1}{e^{2x} + 1} $\n",
    "\n",
    "Now, differentiate with respect to $x$:\n",
    "\n",
    "$ \\frac{d}{dx}(\\tanh(x)) = \\frac{d}{dx}\\left(\\frac{e^{2x} - 1}{e^{2x} + 1}\\right) $\n",
    "\n",
    "Using the quotient rule, the derivative is given by:\n",
    "\n",
    "$ \\frac{d}{dx}(\\tanh(x)) = \\frac{(2e^{2x})(e^{2x} + 1) - (e^{2x} - 1)(2e^{2x})}{(e^{2x} + 1)^2} $\n",
    "\n",
    "Simplify the expression:\n",
    "\n",
    "$ \\frac{d}{dx}(\\tanh(x)) = \\frac{2e^{4x} + 2e^{2x} - 2e^{4x} + 2e^{2x}}{(e^{2x} + 1)^2} $\n",
    "\n",
    "Combine like terms:\n",
    "\n",
    "$ \\frac{d}{dx}(\\tanh(x)) = \\frac{4e^{2x}}{(e^{2x} + 1)^2} $\n",
    "\n",
    "Now, express $\\tanh(x)$ in terms of itself:\n",
    "\n",
    "$ \\tanh(x) = \\frac{e^{2x} - 1}{e^{2x} + 1} $\n",
    "\n",
    "Square it:\n",
    "\n",
    "$ \\tanh^2(x) = \\frac{(e^{2x} - 1)^2}{(e^{2x} + 1)^2} $\n",
    "\n",
    "Subtract from 1:\n",
    "\n",
    "$ 1 - \\tanh^2(x) = \\frac{4e^{2x}}{(e^{2x} + 1)^2} $\n",
    "\n",
    "So, indeed:\n",
    "\n",
    "$ \\frac{d}{dx}(\\tanh(x)) = 1 - \\tanh^2(x) $\n",
    "\n",
    "This confirms the given expression."
   ]
  },
  {
   "cell_type": "code",
   "execution_count": null,
   "id": "81a22060",
   "metadata": {},
   "outputs": [],
   "source": []
  },
  {
   "cell_type": "markdown",
   "id": "d0238a48",
   "metadata": {},
   "source": [
    "$\\textbf{Question2}$  \n",
    "\n",
    "Which of the following functions are solutions of the equation $\\frac{d^2y(z)}{dx^2} =−y(x): $  \n",
    "(i) sin(x)  \n",
    "(ii) cos(x)  \n",
    "(iii) cosh(x)  \n",
    "(iv) $e^{−x}$  \n",
    "\n",
    "$\\textbf{Answer}$"
   ]
  },
  {
   "cell_type": "markdown",
   "id": "51730b01",
   "metadata": {},
   "source": [
    "To determine which of the given functions are solutions to the differential equation $\\frac{d^2y(x)}{dx^2} = -y(x)$, we'll differentiate each function twice and then check if it satisfies the equation.\n",
    "\n",
    "(i) For $y(x) = \\sin(x)$:\n",
    "$\\frac{d}{dx}(\\sin(x)) = \\cos(x)$\n",
    "$\\frac{d^2}{dx^2}(\\sin(x)) = -\\sin(x)$\n",
    "We can see that the second derivative is indeed $-\\sin(x)$, which satisfies the equation.\n",
    "\n",
    "(ii) For $y(x) = \\cos(x)$:\n",
    "$\\frac{d}{dx}(\\cos(x)) = -\\sin(x)$\n",
    "$\\frac{d^2}{dx^2}(\\cos(x)) = -\\cos(x)$\n",
    "The second derivative is $-\\cos(x)$, which also satisfies the equation.\n",
    "\n",
    "(iii) For $y(x) = \\cosh(x)$:\n",
    "$\\frac{d}{dx}(\\cosh(x)) = \\sinh(x)$\n",
    "$\\frac{d^2}{dx^2}(\\cosh(x)) = \\cosh(x)$\n",
    "The second derivative is $\\cosh(x)$, not $-\\cosh(x)$, so it doesn't satisfy the equation.\n",
    "\n",
    "(iv) For $y(x) = e^{-x}$:\n",
    "$\\frac{d}{dx}(e^{-x}) = -e^{-x}$\n",
    "$\\frac{d^2}{dx^2}(e^{-x}) = e^{-x}$\n",
    "The second derivative is $e^{-x}$, not $-e^{-x}$, so it doesn't satisfy the equation.\n",
    "\n",
    "Thus, the solutions to the given differential equation are (i) sin(x) and (ii) cos(x)."
   ]
  },
  {
   "cell_type": "code",
   "execution_count": null,
   "id": "a47d9a8f",
   "metadata": {},
   "outputs": [],
   "source": []
  },
  {
   "cell_type": "markdown",
   "id": "89f563a5",
   "metadata": {},
   "source": [
    "$\\textbf{Question3}$  \n",
    "\n",
    "The partial derivative ∂f(x,y)/∂y of the function $f(x,y)=x^2(1−e^{−y})$ equals to:\n",
    "\n",
    "$\\textbf{Answer}$"
   ]
  },
  {
   "cell_type": "markdown",
   "id": "0e93622d",
   "metadata": {},
   "source": [
    "To find the partial derivative ∂f(x, y)/∂y of the function f(x, y) = x^2(1 − e^(-y)), we'll take the derivative of each term with respect to y while treating x as a constant.\n",
    "\n",
    "Let's break down the function:\n",
    "\n",
    "$ f(x, y) = x^2(1 - e^{-y}) $\n",
    "\n",
    "1. Take the derivative of the first term, x^2, with respect to y (since x is treated as a constant):\n",
    "   $ \\frac{d}{dy} (x^2) = 0 $\n",
    "\n",
    "2. Take the derivative of the second term, (1 - e^(-y)), with respect to y:\n",
    "   $ \\frac{d}{dy} (1 - e^{-y}) = 0 - \\frac{d}{dy} (e^{-y}) $\n",
    "   $ = e^{-y} $\n",
    "\n",
    "Now, combine the results:\n",
    "$ \\frac{\\partial f}{\\partial y} = 0 + x^2 \\cdot e^{-y} $\n",
    "\n",
    "So, the partial derivative $ \\frac{\\partial f}{\\partial y} $ of the given function is $ x^2 \\cdot e^{-y} $."
   ]
  },
  {
   "cell_type": "code",
   "execution_count": null,
   "id": "751a7e3f",
   "metadata": {},
   "outputs": [],
   "source": []
  }
 ],
 "metadata": {
  "kernelspec": {
   "display_name": "SageMath 9.5",
   "language": "sage",
   "name": "sagemath"
  },
  "language_info": {
   "codemirror_mode": {
    "name": "ipython",
    "version": 3
   },
   "file_extension": ".py",
   "mimetype": "text/x-python",
   "name": "python",
   "nbconvert_exporter": "python",
   "pygments_lexer": "ipython3",
   "version": "3.10.12"
  }
 },
 "nbformat": 4,
 "nbformat_minor": 5
}
