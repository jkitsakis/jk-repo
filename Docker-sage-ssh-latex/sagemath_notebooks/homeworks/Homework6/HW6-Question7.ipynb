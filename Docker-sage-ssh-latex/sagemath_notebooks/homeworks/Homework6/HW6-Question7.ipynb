{
 "cells": [
  {
   "cell_type": "markdown",
   "id": "25f5903e",
   "metadata": {},
   "source": [
    "$\\textbf{Question7}$  \n",
    "\n",
    "Solve the following problem using sagemath : \n",
    "\n",
    "A pension fund of \\$42 million is available for investment across treasury notes, bonds, and\n",
    "stocks. \n",
    "\n",
    "Administration guidelines mandate a minimum investment of \\$3 million in each category, with at least half of the total funds allocated to treasury notes and bonds.  \n",
    "\n",
    "Additionally, the investment in bonds must not exceed twice the investment in treasury notes. The annual yields are 7% for treasury notes, 9% for bonds, and 10% for stocks. \n",
    "\n",
    "Find how the allocation of funds should be optimized to maximize returns using the following steps:\n",
    "\n",
    "(a) Formulate this problem as a linear programming problem and write the resulting equations in a sagemath markdown cell."
   ]
  },
  {
   "cell_type": "code",
   "execution_count": 28,
   "id": "65dd452b",
   "metadata": {},
   "outputs": [
    {
     "ename": "NameError",
     "evalue": "name 'LinearProgram' is not defined",
     "output_type": "error",
     "traceback": [
      "\u001b[0;31m---------------------------------------------------------------------------\u001b[0m",
      "\u001b[0;31mNameError\u001b[0m                                 Traceback (most recent call last)",
      "\u001b[0;32m/tmp/ipykernel_55/1777294528.py\u001b[0m in \u001b[0;36m<module>\u001b[0;34m\u001b[0m\n\u001b[1;32m     13\u001b[0m \u001b[0;34m\u001b[0m\u001b[0m\n\u001b[1;32m     14\u001b[0m \u001b[0;31m# Set up the linear programming problem\u001b[0m\u001b[0;34m\u001b[0m\u001b[0;34m\u001b[0m\u001b[0m\n\u001b[0;32m---> 15\u001b[0;31m \u001b[0mLP_problem\u001b[0m \u001b[0;34m=\u001b[0m \u001b[0mLinearProgram\u001b[0m\u001b[0;34m(\u001b[0m\u001b[0mmaximization\u001b[0m\u001b[0;34m=\u001b[0m\u001b[0;32mTrue\u001b[0m\u001b[0;34m)\u001b[0m\u001b[0;34m\u001b[0m\u001b[0;34m\u001b[0m\u001b[0m\n\u001b[0m\u001b[1;32m     16\u001b[0m \u001b[0;34m\u001b[0m\u001b[0m\n\u001b[1;32m     17\u001b[0m \u001b[0;31m# Add objective function and constraints\u001b[0m\u001b[0;34m\u001b[0m\u001b[0;34m\u001b[0m\u001b[0m\n",
      "\u001b[0;31mNameError\u001b[0m: name 'LinearProgram' is not defined"
     ]
    }
   ],
   "source": [
    "var('x1, x2, x3')\n",
    "\n",
    "# Objective function to maximize\n",
    "objective_function = 0.07*x1 + 0.09*x2 + 0.10*x3\n",
    "\n",
    "# Constraints\n",
    "constraint1 = x1 + x2 + x3 <= 42\n",
    "constraint2 = x1 >= 3\n",
    "constraint3 = x2 >= 3\n",
    "constraint4 = x3 >= 3\n",
    "constraint5 = x1 + x2 >= 0.5 * (x1 + x2 + x3)\n",
    "constraint6 = x2 <= 2*x1\n",
    "\n",
    "# Set up the linear programming problem\n",
    "LP_problem = LinearProgram(maximization=True)\n",
    "\n",
    "# Add objective function and constraints\n",
    "LP_problem.set_objective(objective_function)\n",
    "LP_problem.add_constraint(constraint1)\n",
    "LP_problem.add_constraint(constraint2)\n",
    "LP_problem.add_constraint(constraint3)\n",
    "LP_problem.add_constraint(constraint4)\n",
    "LP_problem.add_constraint(constraint5)\n",
    "LP_problem.add_constraint(constraint6)\n",
    "\n",
    "# Solve the LP problem\n",
    "solution = LP_problem.solve()\n",
    "\n",
    "# Display the solution\n",
    "solution\n"
   ]
  },
  {
   "cell_type": "markdown",
   "id": "e410f685",
   "metadata": {},
   "source": [
    "Solve the problem using the appropriate class of sagemath functions"
   ]
  },
  {
   "cell_type": "code",
   "execution_count": 8,
   "id": "d13f3e0b",
   "metadata": {},
   "outputs": [
    {
     "name": "stdout",
     "output_type": "stream",
     "text": [
      "Optimal Allocation:\n",
      "Treasury Notes: $ 7.0 million\n",
      "Bonds: $ 14.0 million\n",
      "Stocks: $ 21.0 million\n",
      "Optimal Total Return: $ 3.85 million\n"
     ]
    }
   ],
   "source": [
    "# Define LP problem\n",
    "lp = MixedIntegerLinearProgram(maximization=True)\n",
    "\n",
    "# Define variables\n",
    "x = lp.new_variable(real=True, nonnegative=True)\n",
    "\n",
    "# Objective function\n",
    "lp.set_objective(0.07*x[1] + 0.09*x[2] + 0.10*x[3])\n",
    "\n",
    "# Constraints\n",
    "lp.add_constraint(x[1] + x[2] + x[3] <= 42)\n",
    "lp.add_constraint(x[1] >= 3)\n",
    "lp.add_constraint(x[2] >= 3)\n",
    "lp.add_constraint(x[3] >= 3)\n",
    "lp.add_constraint(x[1] + x[2] >= (1/2)*(x[1] + x[2] + x[3]))\n",
    "lp.add_constraint(x[2] <= 2*x[1])\n",
    "\n",
    "# Solve LP\n",
    "solution = lp.solve()\n",
    "\n",
    "# Get the optimal solution\n",
    "optimal_allocation = lp.get_values(x)\n",
    "optimal_return = lp.get_objective_value()\n",
    "\n",
    "print(\"Optimal Allocation:\")\n",
    "print(\"Treasury Notes: $\", round(optimal_allocation[1], 2), \"million\")\n",
    "print(\"Bonds: $\", round(optimal_allocation[2], 2), \"million\")\n",
    "print(\"Stocks: $\", round(optimal_allocation[3], 2), \"million\")\n",
    "print(\"Optimal Total Return: $\", round(optimal_return, 2), \"million\")\n"
   ]
  },
  {
   "cell_type": "code",
   "execution_count": null,
   "id": "7fe6851e",
   "metadata": {},
   "outputs": [],
   "source": []
  }
 ],
 "metadata": {
  "kernelspec": {
   "display_name": "SageMath 9.5",
   "language": "sage",
   "name": "sagemath"
  },
  "language_info": {
   "codemirror_mode": {
    "name": "ipython",
    "version": 3
   },
   "file_extension": ".py",
   "mimetype": "text/x-python",
   "name": "python",
   "nbconvert_exporter": "python",
   "pygments_lexer": "ipython3",
   "version": "3.10.12"
  }
 },
 "nbformat": 4,
 "nbformat_minor": 5
}
