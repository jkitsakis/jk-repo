{
 "cells": [
  {
   "cell_type": "markdown",
   "id": "d105f747",
   "metadata": {},
   "source": [
    "$\\textbf{Question 8}$\n",
    "\n",
    "Consider the sigmoid function\n",
    "\n",
    "$f(w_0, w_1, w_2, x_0, x_1) = \\frac{1}{1 + e^{-(w_0x_0 + w_1x_1 + w_2)}}$\n",
    "\n",
    "(a) Install the automatic differentiation library autograd in sagemath and all additional\n",
    "libraries required for its functionality.\n",
    "\n",
    "(b) Define 𝑓 as a python function and utilise autograd to define a function named augradf\n",
    "that automatically computes the numerical value of the gradient of 𝑓 with respect to\n",
    "𝑤0, 𝑤1, 𝑤2, 𝑥0, 𝑥1.\n",
    "\n",
    "(c) Define a sagemath function angradf that computes analytically the gradient of 𝑓 with\n",
    "respect to 𝑤0, 𝑤1, 𝑤2, 𝑥0, 𝑥1.\n",
    "\n",
    "(d) Compare the results of the functions augradf and angradf for 10 points (𝑤0, 𝑤1, 𝑤2, 𝑥0, 𝑥1)\n",
    "choosed randomly in the range (0, 1), and comment on any discrepancies.\n",
    "\n",
    "(e) Compare the execution time of the two methods of computation of the gradient for a\n",
    "specific point (chosen randomly).\n",
    "\n",
    "$\\textbf{Answer:}$"
   ]
  },
  {
   "cell_type": "code",
   "execution_count": 3,
   "id": "b5c43aef",
   "metadata": {},
   "outputs": [
    {
     "name": "stdout",
     "output_type": "stream",
     "text": [
      "Input values:\n",
      "w0 = 1.0, w1 = 2.0, w2 = 3.0, x0 = 0.5, x1 = 0.3\n",
      "\n",
      "Gradient of f at the given point:\n",
      "θf/θw0 = 0.008018\n",
      "θf/θw1 = 0.004811\n",
      "θf/θw2 = 0.016037\n",
      "θf/θx0 = 0.016037\n",
      "θf/θx1 = 0.032073\n"
     ]
    }
   ],
   "source": [
    "# Make sure you have autograd installed\n",
    "import autograd.numpy as np\n",
    "from autograd import grad, elementwise_grad\n",
    "\n",
    "# Define the sigmoid function\n",
    "def sigmoid(w0, w1, w2, x0, x1):\n",
    "    return 1 / (1 + np.exp(-(w0*x0 + w1*x1 + w2)))\n",
    "\n",
    "# Define the function to compute the gradient of sigmoid function\n",
    "def augradf(w0, w1, w2, x0, x1):\n",
    "    # Define the gradient function using autograd\n",
    "    grad_sigmoid = elementwise_grad(sigmoid, argnum=(0, 1, 2, 3, 4))\n",
    "    # Evaluate the gradient at the given point\n",
    "    gradient_value = grad_sigmoid(w0, w1, w2, x0, x1)\n",
    "    return gradient_value\n",
    "\n",
    "# Example usage:\n",
    "# Example usage:\n",
    "w0_val = 1.0\n",
    "w1_val = 2.0\n",
    "w2_val = 3.0\n",
    "x0_val = 0.5\n",
    "x1_val = 0.3\n",
    "\n",
    "gradient_at_point = augradf(w0_val, w1_val, w2_val, x0_val, x1_val)\n",
    "\n",
    "# Format and print the results\n",
    "print(\"Input values:\")\n",
    "print(f\"w0 = {w0_val}, w1 = {w1_val}, w2 = {w2_val}, x0 = {x0_val}, x1 = {x1_val}\")\n",
    "\n",
    "print(\"\\nGradient of f at the given point:\")\n",
    "print(f\"θf/θw0 = {gradient_at_point[0]:.6f}\")\n",
    "print(f\"θf/θw1 = {gradient_at_point[1]:.6f}\")\n",
    "print(f\"θf/θw2 = {gradient_at_point[2]:.6f}\")\n",
    "print(f\"θf/θx0 = {gradient_at_point[3]:.6f}\")\n",
    "print(f\"θf/θx1 = {gradient_at_point[4]:.6f}\")\n",
    "\n"
   ]
  },
  {
   "cell_type": "code",
   "execution_count": null,
   "id": "bab116a4",
   "metadata": {},
   "outputs": [],
   "source": []
  },
  {
   "cell_type": "code",
   "execution_count": 10,
   "id": "483c2e7e",
   "metadata": {},
   "outputs": [
    {
     "name": "stdout",
     "output_type": "stream",
     "text": [
      "θf/θw0 = x0*e^(-w0*x0 - w1*x1 - w2)/(e^(-w0*x0 - w1*x1 - w2) + 1)^2\n",
      "θf/θw0 = x1*e^(-w0*x0 - w1*x1 - w2)/(e^(-w0*x0 - w1*x1 - w2) + 1)^2\n",
      "θf/θw0 = e^(-w0*x0 - w1*x1 - w2)/(e^(-w0*x0 - w1*x1 - w2) + 1)^2\n",
      "θf/θw0 = w0*e^(-w0*x0 - w1*x1 - w2)/(e^(-w0*x0 - w1*x1 - w2) + 1)^2\n",
      "θf/θw0 = w1*e^(-w0*x0 - w1*x1 - w2)/(e^(-w0*x0 - w1*x1 - w2) + 1)^2\n"
     ]
    }
   ],
   "source": [
    "from sage.all import *\n",
    "\n",
    "# Define the symbolic variables\n",
    "w0, w1, w2, x0, x1 = var('w0 w1 w2 x0 x1')\n",
    "\n",
    "# Define the sigmoid function\n",
    "sigmoid = 1 / (1 + exp(-(w0*x0 + w1*x1 + w2)))\n",
    "\n",
    "# Define the gradient of the sigmoid function\n",
    "angradf = [\n",
    "    diff(sigmoid, w0),\n",
    "    diff(sigmoid, w1),\n",
    "    diff(sigmoid, w2),\n",
    "    diff(sigmoid, x0),\n",
    "    diff(sigmoid, x1)\n",
    "]\n",
    "\n",
    "# Display the analytical gradient\n",
    "for i, derivative in enumerate(angradf):\n",
    "    print(f\"θf/θ{angradf[i].variables()[0]} =\", derivative)\n"
   ]
  },
  {
   "cell_type": "code",
   "execution_count": null,
   "id": "da2287f1",
   "metadata": {},
   "outputs": [],
   "source": []
  },
  {
   "cell_type": "code",
   "execution_count": 12,
   "id": "ea8c0a1f",
   "metadata": {},
   "outputs": [
    {
     "name": "stdout",
     "output_type": "stream",
     "text": [
      "Analytical Gradient of f at the given point: [0.008018363942842558, 0.004811018365705535, 0.016036727885685116, 0.016036727885685116, 0.03207345577137023]\n"
     ]
    }
   ],
   "source": [
    "# Import the symbolic ring from SageMath\n",
    "from sage.all import *\n",
    "\n",
    "# Define symbolic variables\n",
    "w0, w1, w2, x0, x1 = SR.var('w0 w1 w2 x0 x1')\n",
    "\n",
    "# Define the sigmoid function\n",
    "sigmoid = 1 / (1 + exp(-(w0*x0 + w1*x1 + w2)))\n",
    "\n",
    "# Define the gradient of the sigmoid function\n",
    "angradf = [\n",
    "    diff(sigmoid, w0),\n",
    "    diff(sigmoid, w1),\n",
    "    diff(sigmoid, w2),\n",
    "    diff(sigmoid, x0),\n",
    "    diff(sigmoid, x1)\n",
    "]\n",
    "\n",
    "# Define a function to evaluate the gradient at a specific point\n",
    "def evaluate_gradient_at_point(w0_val, w1_val, w2_val, x0_val, x1_val):\n",
    "    gradient_values = [angradf[i](w0=w0_val, w1=w1_val, w2=w2_val, x0=x0_val, x1=x1_val) for i in range(len(angradf))]\n",
    "    return gradient_values\n",
    "\n",
    "# Example usage:\n",
    "w0_val = 1.0\n",
    "w1_val = 2.0\n",
    "w2_val = 3.0\n",
    "x0_val = 0.5\n",
    "x1_val = 0.3\n",
    "\n",
    "gradient_at_point = evaluate_gradient_at_point(w0_val, w1_val, w2_val, x0_val, x1_val)\n",
    "print(\"Analytical Gradient of f at the given point:\", gradient_at_point)\n"
   ]
  },
  {
   "cell_type": "code",
   "execution_count": null,
   "id": "2fc6dcc0",
   "metadata": {},
   "outputs": [],
   "source": []
  }
 ],
 "metadata": {
  "kernelspec": {
   "display_name": "Python 3 (ipykernel)",
   "language": "python",
   "name": "python3"
  },
  "language_info": {
   "codemirror_mode": {
    "name": "ipython",
    "version": 3
   },
   "file_extension": ".py",
   "mimetype": "text/x-python",
   "name": "python",
   "nbconvert_exporter": "python",
   "pygments_lexer": "ipython3",
   "version": "3.10.12"
  }
 },
 "nbformat": 4,
 "nbformat_minor": 5
}
