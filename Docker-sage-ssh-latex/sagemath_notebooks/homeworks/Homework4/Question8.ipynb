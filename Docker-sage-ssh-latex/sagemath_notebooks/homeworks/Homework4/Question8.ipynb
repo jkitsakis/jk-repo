{
 "cells": [
  {
   "cell_type": "markdown",
   "id": "4274d032",
   "metadata": {},
   "source": [
    "Consider the sigmoid function \n",
    "\n",
    "$f(w_0, w_1, w_2, x_0, x_1) = \\frac{1}{1 + e^{-(w_0x_0 + w_1x_1 + w_2)}}$\n",
    "\n",
    "(a) Install the automatic differentiation library autograd in sagemath and all additional\n",
    "libraries required for its functionality.\n",
    "\n",
    "$\\textbf{Answer}$\n"
   ]
  },
  {
   "cell_type": "code",
   "execution_count": null,
   "id": "ac6b9abf",
   "metadata": {},
   "outputs": [],
   "source": []
  }
 ],
 "metadata": {
  "kernelspec": {
   "display_name": "SageMath 9.5",
   "language": "sage",
   "name": "sagemath"
  },
  "language_info": {
   "codemirror_mode": {
    "name": "ipython",
    "version": 3
   },
   "file_extension": ".py",
   "mimetype": "text/x-python",
   "name": "python",
   "nbconvert_exporter": "python",
   "pygments_lexer": "ipython3",
   "version": "3.10.12"
  }
 },
 "nbformat": 4,
 "nbformat_minor": 5
}
