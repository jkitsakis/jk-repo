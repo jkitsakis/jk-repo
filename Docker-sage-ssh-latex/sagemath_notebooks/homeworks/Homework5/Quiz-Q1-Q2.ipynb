{
 "cells": [
  {
   "cell_type": "markdown",
   "id": "baf80825",
   "metadata": {},
   "source": [
    "$\\textbf{Question1}$  \n",
    "\n",
    "For the given sets A={1,2,3,4} and B={2,4,6} find : A∪B, A∩B, A−B,  B−A\n",
    "\n",
    "$\\textbf{Answer}$"
   ]
  },
  {
   "cell_type": "markdown",
   "id": "b2519bb8",
   "metadata": {},
   "source": [
    "Let's break down each operation using the given sets A and B:\n",
    "\n",
    "1. Union (A ∪ B):  \n",
    "   The union of two sets contains all the elements that are present in either set A or set B, or in both sets.  \n",
    "   A ∪ B = {1, 2, 3, 4} ∪ {2, 4, 6} = {1, 2, 3, 4, 6}  \n",
    "\n",
    "2. Intersection (A ∩ B):  \n",
    "   The intersection of two sets contains all the elements that are common to both set A and set B.  \n",
    "   A ∩ B = {1, 2, 3, 4} ∩ {2, 4, 6} = {2, 4}  \n",
    "\n",
    "3. Set Difference (A - B):  \n",
    "   The set difference A - B contains all the elements that are in set A but not in set B.  \n",
    "   A - B = {1, 2, 3, 4} - {2, 4, 6} = {1, 3}  \n",
    "\n",
    "4. Set Difference (B - A):  \n",
    "   The set difference B - A contains all the elements that are in set B but not in set A.  \n",
    "   B - A = {2, 4, 6} - {1, 2, 3, 4} = {6}  "
   ]
  },
  {
   "cell_type": "code",
   "execution_count": null,
   "id": "e6f66e3b",
   "metadata": {},
   "outputs": [],
   "source": []
  },
  {
   "cell_type": "markdown",
   "id": "0fa44781",
   "metadata": {},
   "source": [
    "$\\textbf{Question2}$  \n",
    "\n",
    "Let A and B two sets which are subsets of a set Ω. Which of the following expressions is not correct?\n",
    "\n",
    "a. (A∪B)∩(A∪C)=A∪(B∩C)\n",
    "\n",
    "b. (A∪B)=(A∩Bc)∪B\n",
    "\n",
    "c. (A∪B)c∩C=(Ac∩Bc)∩C\n",
    "\n",
    "d. Ac∩B=A∪B\n",
    "\n",
    "e. (A∩B)∩(Bc∩C)=∅\n",
    "\n",
    "$\\textbf{Answer}$"
   ]
  },
  {
   "cell_type": "markdown",
   "id": "64db1424",
   "metadata": {},
   "source": [
    "Let's analyze each option:\n",
    "\n",
    "a. \\((A∪B)∩(A∪C)=A∪(B∩C)\\)\n",
    "\n",
    "This is an application of the distributive property of set operations and is indeed correct.\n",
    "\n",
    "b. \\((A∪B)=(A∩B^c)∪B\\)\n",
    "\n",
    "This is the De Morgan's law and is correct.\n",
    "\n",
    "c. \\((A∪B)^c∩C=(A^c∩B^c)∩C\\)\n",
    "\n",
    "This also seems to be an application of De Morgan's law and is correct.\n",
    "\n",
    "d. \\(A^c∩B=A∪B\\)\n",
    "\n",
    "This expression is incorrect. The correct expression should be \\(A^c∩B=(A^c∪B^c)^c\\). So, this is the incorrect option.\n",
    "\n",
    "e. \\((A∩B)∩(B^c∩C)=∅\\)\n",
    "\n",
    "This is correct since the intersection of \\(B\\) and its complement is an empty set.\n",
    "\n",
    "So, the incorrect option is d. \\(A^c∩B=A∪B\\)."
   ]
  },
  {
   "cell_type": "code",
   "execution_count": null,
   "id": "0f51c543",
   "metadata": {},
   "outputs": [],
   "source": []
  }
 ],
 "metadata": {
  "kernelspec": {
   "display_name": "SageMath 9.5",
   "language": "sage",
   "name": "sagemath"
  },
  "language_info": {
   "codemirror_mode": {
    "name": "ipython",
    "version": 3
   },
   "file_extension": ".py",
   "mimetype": "text/x-python",
   "name": "python",
   "nbconvert_exporter": "python",
   "pygments_lexer": "ipython3",
   "version": "3.10.12"
  }
 },
 "nbformat": 4,
 "nbformat_minor": 5
}
