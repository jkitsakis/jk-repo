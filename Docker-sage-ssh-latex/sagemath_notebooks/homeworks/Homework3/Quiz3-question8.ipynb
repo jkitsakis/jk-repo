{
 "cells": [
  {
   "cell_type": "markdown",
   "id": "fd7315de",
   "metadata": {},
   "source": [
    "$\\textbf{Question 8  :}$\n",
    "\n",
    "Consider the 6 × 2 matrix 𝐴 with elements\n",
    "\n",
    "$𝑎_{𝑖𝑗} = 𝑖^2 + 2𝑖𝑗, 𝑖 = 1, … , 6, 𝑗 = 1, 2$\n",
    "\n",
    "Using sagemath :\n",
    "\n",
    "(a) Compute 𝐴;\n",
    "\n",
    "(b) Compute the SVD of 𝐴 and print the left and right singular vector matrices and the\n",
    "singular value matrix using 3 significant digits;\n",
    "\n",
    "(c) Compute the rank-1 approximation 𝐴1 of 𝐴 and print using 3 significant digits;\n",
    "\n",
    "(d) Compute the Frobenius norm of the difference 𝐴 − 𝐴1 (e) Compute the rank-2 approximation 𝐴2 of 𝐴 and print using 3 significant digits. Compute the Frobenius norm of the difference 𝐴 − 𝐴2. Comment on these results.\n",
    "\n",
    "$\\textbf{Answer :}$"
   ]
  },
  {
   "cell_type": "code",
   "execution_count": 17,
   "id": "4f7cf025",
   "metadata": {},
   "outputs": [
    {
     "name": "stdout",
     "output_type": "stream",
     "text": [
      "Matrix A:\n",
      "[ 3  5]\n",
      "[ 8 12]\n",
      "[15 21]\n",
      "[24 32]\n",
      "[35 45]\n",
      "[48 60]\n"
     ]
    },
    {
     "ename": "AttributeError",
     "evalue": "'sage.matrix.matrix_double_sparse.Matrix_double_sparse' object has no attribute 'round'",
     "output_type": "error",
     "traceback": [
      "\u001b[0;31m---------------------------------------------------------------------------\u001b[0m",
      "\u001b[0;31mAttributeError\u001b[0m                            Traceback (most recent call last)",
      "\u001b[0;32m/tmp/ipykernel_189/3042958447.py\u001b[0m in \u001b[0;36m<module>\u001b[0;34m\u001b[0m\n\u001b[1;32m     20\u001b[0m \u001b[0;31m# (c) Round the matrices to 3 decimal places\u001b[0m\u001b[0;34m\u001b[0m\u001b[0;34m\u001b[0m\u001b[0m\n\u001b[1;32m     21\u001b[0m \u001b[0mU\u001b[0m \u001b[0;34m=\u001b[0m \u001b[0mMatrix\u001b[0m\u001b[0;34m(\u001b[0m\u001b[0mU\u001b[0m\u001b[0;34m.\u001b[0m\u001b[0mround\u001b[0m\u001b[0;34m(\u001b[0m\u001b[0mInteger\u001b[0m\u001b[0;34m(\u001b[0m\u001b[0;36m3\u001b[0m\u001b[0;34m)\u001b[0m\u001b[0;34m)\u001b[0m\u001b[0;34m)\u001b[0m\u001b[0;34m\u001b[0m\u001b[0;34m\u001b[0m\u001b[0m\n\u001b[0;32m---> 22\u001b[0;31m \u001b[0mS_matrix\u001b[0m \u001b[0;34m=\u001b[0m \u001b[0mMatrix\u001b[0m\u001b[0;34m(\u001b[0m\u001b[0mS_matrix\u001b[0m\u001b[0;34m.\u001b[0m\u001b[0mround\u001b[0m\u001b[0;34m(\u001b[0m\u001b[0mInteger\u001b[0m\u001b[0;34m(\u001b[0m\u001b[0;36m3\u001b[0m\u001b[0;34m)\u001b[0m\u001b[0;34m)\u001b[0m\u001b[0;34m)\u001b[0m\u001b[0;34m\u001b[0m\u001b[0;34m\u001b[0m\u001b[0m\n\u001b[0m\u001b[1;32m     23\u001b[0m \u001b[0mV\u001b[0m \u001b[0;34m=\u001b[0m \u001b[0mMatrix\u001b[0m\u001b[0;34m(\u001b[0m\u001b[0mV\u001b[0m\u001b[0;34m.\u001b[0m\u001b[0mround\u001b[0m\u001b[0;34m(\u001b[0m\u001b[0mInteger\u001b[0m\u001b[0;34m(\u001b[0m\u001b[0;36m3\u001b[0m\u001b[0;34m)\u001b[0m\u001b[0;34m)\u001b[0m\u001b[0;34m)\u001b[0m\u001b[0;34m\u001b[0m\u001b[0;34m\u001b[0m\u001b[0m\n\u001b[1;32m     24\u001b[0m \u001b[0;34m\u001b[0m\u001b[0m\n",
      "\u001b[0;32m/usr/lib/python3/dist-packages/sage/structure/element.pyx\u001b[0m in \u001b[0;36msage.structure.element.Element.__getattr__ (build/cythonized/sage/structure/element.c:4827)\u001b[0;34m()\u001b[0m\n\u001b[1;32m    492\u001b[0m             \u001b[0mAttributeError\u001b[0m\u001b[0;34m:\u001b[0m \u001b[0;34m'LeftZeroSemigroup_with_category.element_class'\u001b[0m \u001b[0mobject\u001b[0m \u001b[0mhas\u001b[0m \u001b[0mno\u001b[0m \u001b[0mattribute\u001b[0m \u001b[0;34m'blah_blah'\u001b[0m\u001b[0;34m\u001b[0m\u001b[0;34m\u001b[0m\u001b[0m\n\u001b[1;32m    493\u001b[0m         \"\"\"\n\u001b[0;32m--> 494\u001b[0;31m         \u001b[0;32mreturn\u001b[0m \u001b[0mself\u001b[0m\u001b[0;34m.\u001b[0m\u001b[0mgetattr_from_category\u001b[0m\u001b[0;34m(\u001b[0m\u001b[0mname\u001b[0m\u001b[0;34m)\u001b[0m\u001b[0;34m\u001b[0m\u001b[0;34m\u001b[0m\u001b[0m\n\u001b[0m\u001b[1;32m    495\u001b[0m \u001b[0;34m\u001b[0m\u001b[0m\n\u001b[1;32m    496\u001b[0m     \u001b[0mcdef\u001b[0m \u001b[0mgetattr_from_category\u001b[0m\u001b[0;34m(\u001b[0m\u001b[0mself\u001b[0m\u001b[0;34m,\u001b[0m \u001b[0mname\u001b[0m\u001b[0;34m)\u001b[0m\u001b[0;34m:\u001b[0m\u001b[0;34m\u001b[0m\u001b[0;34m\u001b[0m\u001b[0m\n",
      "\u001b[0;32m/usr/lib/python3/dist-packages/sage/structure/element.pyx\u001b[0m in \u001b[0;36msage.structure.element.Element.getattr_from_category (build/cythonized/sage/structure/element.c:4939)\u001b[0;34m()\u001b[0m\n\u001b[1;32m    505\u001b[0m         \u001b[0;32melse\u001b[0m\u001b[0;34m:\u001b[0m\u001b[0;34m\u001b[0m\u001b[0;34m\u001b[0m\u001b[0m\n\u001b[1;32m    506\u001b[0m             \u001b[0mcls\u001b[0m \u001b[0;34m=\u001b[0m \u001b[0mP\u001b[0m\u001b[0;34m.\u001b[0m\u001b[0m_abstract_element_class\u001b[0m\u001b[0;34m\u001b[0m\u001b[0;34m\u001b[0m\u001b[0m\n\u001b[0;32m--> 507\u001b[0;31m         \u001b[0;32mreturn\u001b[0m \u001b[0mgetattr_from_other_class\u001b[0m\u001b[0;34m(\u001b[0m\u001b[0mself\u001b[0m\u001b[0;34m,\u001b[0m \u001b[0mcls\u001b[0m\u001b[0;34m,\u001b[0m \u001b[0mname\u001b[0m\u001b[0;34m)\u001b[0m\u001b[0;34m\u001b[0m\u001b[0;34m\u001b[0m\u001b[0m\n\u001b[0m\u001b[1;32m    508\u001b[0m \u001b[0;34m\u001b[0m\u001b[0m\n\u001b[1;32m    509\u001b[0m     \u001b[0;32mdef\u001b[0m \u001b[0m__dir__\u001b[0m\u001b[0;34m(\u001b[0m\u001b[0mself\u001b[0m\u001b[0;34m)\u001b[0m\u001b[0;34m:\u001b[0m\u001b[0;34m\u001b[0m\u001b[0;34m\u001b[0m\u001b[0m\n",
      "\u001b[0;32m/usr/lib/python3/dist-packages/sage/cpython/getattr.pyx\u001b[0m in \u001b[0;36msage.cpython.getattr.getattr_from_other_class (build/cythonized/sage/cpython/getattr.c:2703)\u001b[0;34m()\u001b[0m\n\u001b[1;32m    359\u001b[0m         \u001b[0mdummy_error_message\u001b[0m\u001b[0;34m.\u001b[0m\u001b[0mcls\u001b[0m \u001b[0;34m=\u001b[0m \u001b[0mtype\u001b[0m\u001b[0;34m(\u001b[0m\u001b[0mself\u001b[0m\u001b[0;34m)\u001b[0m\u001b[0;34m\u001b[0m\u001b[0;34m\u001b[0m\u001b[0m\n\u001b[1;32m    360\u001b[0m         \u001b[0mdummy_error_message\u001b[0m\u001b[0;34m.\u001b[0m\u001b[0mname\u001b[0m \u001b[0;34m=\u001b[0m \u001b[0mname\u001b[0m\u001b[0;34m\u001b[0m\u001b[0;34m\u001b[0m\u001b[0m\n\u001b[0;32m--> 361\u001b[0;31m         \u001b[0;32mraise\u001b[0m \u001b[0mAttributeError\u001b[0m\u001b[0;34m(\u001b[0m\u001b[0mdummy_error_message\u001b[0m\u001b[0;34m)\u001b[0m\u001b[0;34m\u001b[0m\u001b[0;34m\u001b[0m\u001b[0m\n\u001b[0m\u001b[1;32m    362\u001b[0m     \u001b[0mattribute\u001b[0m \u001b[0;34m=\u001b[0m \u001b[0;34m<\u001b[0m\u001b[0mobject\u001b[0m\u001b[0;34m>\u001b[0m\u001b[0mattr\u001b[0m\u001b[0;34m\u001b[0m\u001b[0;34m\u001b[0m\u001b[0m\n\u001b[1;32m    363\u001b[0m     \u001b[0;31m# Check for a descriptor (__get__ in Python)\u001b[0m\u001b[0;34m\u001b[0m\u001b[0;34m\u001b[0m\u001b[0m\n",
      "\u001b[0;31mAttributeError\u001b[0m: 'sage.matrix.matrix_double_sparse.Matrix_double_sparse' object has no attribute 'round'"
     ]
    }
   ],
   "source": [
    "# Import the required function from scipy\n",
    "from scipy.linalg import svd\n",
    "\n",
    "# Define the matrix A\n",
    "A = Matrix([[i^2 + 2*i*j for j in range(1, 3)] for i in range(1, 7)])\n",
    "\n",
    "# Convert A to a floating-point matrix\n",
    "A_float = Matrix(RR, A)\n",
    "\n",
    "# (a) Compute A\n",
    "print(\"Matrix A:\")\n",
    "print(A)\n",
    "\n",
    "# (b) Compute the SVD of A using numerical approximation\n",
    "U, S, Vt = svd(A_float.numpy())\n",
    "U = Matrix(U)\n",
    "S_matrix = diagonal_matrix(S)\n",
    "V = Matrix(Vt.T)\n",
    "\n",
    "# (c) Round the matrices to 3 decimal places\n",
    "U = Matrix(U.round(3))\n",
    "S_matrix = Matrix(S_matrix.round(3))\n",
    "V = Matrix(V.round(3))\n",
    "\n",
    "print(\"\\nLeft Singular Vector Matrix U:\")\n",
    "print(U)\n",
    "print(\"\\nSingular Value Matrix S:\")\n",
    "print(S_matrix)\n",
    "print(\"\\nRight Singular Vector Matrix V:\")\n",
    "print(V)\n",
    "\n",
    "# (d) Compute the rank-1 approximation A1\n",
    "A1 = U[:, 0] * S_matrix[0, 0] * V.transpose()[0, :]\n",
    "A1 = Matrix(A1.round(3))\n",
    "print(\"\\nRank-1 Approximation A1:\")\n",
    "print(A1)\n",
    "\n",
    "# (e) Compute the Frobenius norm of the difference A - A1\n",
    "frobenius_norm_A_minus_A1 = (A_float - A1).norm('fro')\n",
    "print(\"\\nFrobenius Norm of the Difference A - A1:\", round(frobenius_norm_A_minus_A1, 3))\n",
    "\n",
    "# (f) Compute the rank-2 approximation A2\n",
    "A2 = U[:, :2] * S_matrix[:2, :2] * V.transpose()[:2, :]\n",
    "A2 = Matrix(A2.round(3))\n",
    "print(\"\\nRank-2 Approximation A2:\")\n",
    "print(A2)\n",
    "\n",
    "# Compute the Frobenius norm of the difference A - A2\n",
    "frobenius_norm_A_minus_A2 = (A_float - A2).norm('fro')\n",
    "print(\"\\nFrobenius Norm of the Difference A - A2:\", round(frobenius_norm_A_minus_A2, 3))\n"
   ]
  },
  {
   "cell_type": "code",
   "execution_count": null,
   "id": "06eb1b0b",
   "metadata": {},
   "outputs": [],
   "source": []
  },
  {
   "cell_type": "code",
   "execution_count": null,
   "id": "3cf7d7ab",
   "metadata": {},
   "outputs": [],
   "source": []
  }
 ],
 "metadata": {
  "kernelspec": {
   "display_name": "SageMath 9.5",
   "language": "sage",
   "name": "sagemath"
  },
  "language_info": {
   "codemirror_mode": {
    "name": "ipython",
    "version": 3
   },
   "file_extension": ".py",
   "mimetype": "text/x-python",
   "name": "python",
   "nbconvert_exporter": "python",
   "pygments_lexer": "ipython3",
   "version": "3.10.12"
  }
 },
 "nbformat": 4,
 "nbformat_minor": 5
}
